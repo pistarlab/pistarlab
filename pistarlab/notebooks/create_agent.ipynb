{
 "cells": [
  {
   "cell_type": "code",
   "execution_count": 1,
   "metadata": {},
   "outputs": [],
   "source": [
    "%load_ext autoreload\n",
    "%autoreload 2\n",
    "%matplotlib inline"
   ]
  },
  {
   "cell_type": "markdown",
   "metadata": {},
   "source": [
    "# Initialize piSTAR Lab"
   ]
  },
  {
   "cell_type": "code",
   "execution_count": 2,
   "metadata": {},
   "outputs": [
    {
     "name": "stderr",
     "output_type": "stream",
     "text": [
      "INFO:root:Starting Launcher\n"
     ]
    },
    {
     "name": "stdout",
     "output_type": "stream",
     "text": [
      "2021-08-18 18:34:51,963 - root - INFO - Starting Launcher\n"
     ]
    },
    {
     "name": "stderr",
     "output_type": "stream",
     "text": [
      "INFO:root:Adding service xvfb\n"
     ]
    },
    {
     "name": "stdout",
     "output_type": "stream",
     "text": [
      "2021-08-18 18:34:51,971 - root - INFO - Adding service xvfb\n"
     ]
    },
    {
     "name": "stderr",
     "output_type": "stream",
     "text": [
      "INFO:root:Adding service ray\n"
     ]
    },
    {
     "name": "stdout",
     "output_type": "stream",
     "text": [
      "2021-08-18 18:34:51,972 - root - INFO - Adding service ray\n"
     ]
    },
    {
     "name": "stderr",
     "output_type": "stream",
     "text": [
      "INFO:root:Adding service redis\n"
     ]
    },
    {
     "name": "stdout",
     "output_type": "stream",
     "text": [
      "Starting ray head node\n",
      "2021-08-18 18:34:51,972 - root - INFO - Adding service redis\n"
     ]
    },
    {
     "name": "stderr",
     "output_type": "stream",
     "text": [
      "INFO:root:Starting xvfb\n"
     ]
    },
    {
     "name": "stdout",
     "output_type": "stream",
     "text": [
      "2021-08-18 18:34:53,008 - root - INFO - Starting xvfb\n"
     ]
    },
    {
     "name": "stderr",
     "output_type": "stream",
     "text": [
      "INFO:root:Starting ray\n"
     ]
    },
    {
     "name": "stdout",
     "output_type": "stream",
     "text": [
      "2021-08-18 18:34:53,117 - root - INFO - Starting ray\n",
      "RUNNING COMMAND: ray --logging-level=DEBUG start --head --port=6379 --include-dashboard=true --dashboard-port 8265\n"
     ]
    },
    {
     "name": "stderr",
     "output_type": "stream",
     "text": [
      "2021-08-18 18:34:53,516\tDEBUG node.py:823 -- Process STDOUT and STDERR is being redirected to /tmp/ray/session_2021-08-18_18-34-53_515102_2231636/logs.\n",
      "2021-08-18 18:34:53,621\tDEBUG services.py:640 -- Waiting for redis server at 127.0.0.1:6379 to respond...\n",
      "2021-08-18 18:34:53,854\tDEBUG services.py:640 -- Waiting for redis server at 127.0.0.1:50795 to respond...\n",
      "2021-08-18 18:34:53,862\tDEBUG services.py:1005 -- Starting Redis shard with 1.06 GB max memory.\n",
      "2021-08-18 18:34:53,968\tINFO services.py:1174 -- View the Ray dashboard at \u001b[1m\u001b[32mhttp://localhost:8265\u001b[39m\u001b[22m\n",
      "2021-08-18 18:34:53,970\tDEBUG node.py:844 -- Process STDOUT and STDERR is being redirected to /tmp/ray/session_2021-08-18_18-34-53_515102_2231636/logs.\n",
      "2021-08-18 18:34:53,970\tDEBUG services.py:1660 -- Determine to start the Plasma object store with 3.19 GB memory using /dev/shm.\n",
      "INFO:root:Starting redis\n"
     ]
    },
    {
     "name": "stdout",
     "output_type": "stream",
     "text": [
      "2021-08-18 18:34:54,060 - root - INFO - Starting redis\n"
     ]
    },
    {
     "name": "stderr",
     "output_type": "stream",
     "text": [
      "INFO:root:2231680:C 18 Aug 2021 18:34:54.069 # oO0OoO0OoO0Oo Redis is starting oO0OoO0OoO0Oo\n"
     ]
    },
    {
     "name": "stdout",
     "output_type": "stream",
     "text": [
      "RUNNING COMMAND: /home/brandyn/Dev/workspace_playground/pistarlab/pistarlab/thirdparty_lib/redis-server /home/brandyn/pistarlab/tmp_redis.config --port 7771\n",
      "2021-08-18 18:34:54,069 - root - INFO - 2231680:C 18 Aug 2021 18:34:54.069 # oO0OoO0OoO0Oo Redis is starting oO0OoO0OoO0Oo\n"
     ]
    },
    {
     "name": "stderr",
     "output_type": "stream",
     "text": [
      "INFO:root:2231680:C 18 Aug 2021 18:34:54.069 # Redis version=6.2.2, bits=64, commit=dc4d13bc, modified=1, pid=2231680, just started\n"
     ]
    },
    {
     "name": "stdout",
     "output_type": "stream",
     "text": [
      "2021-08-18 18:34:54,071 - root - INFO - 2231680:C 18 Aug 2021 18:34:54.069 # Redis version=6.2.2, bits=64, commit=dc4d13bc, modified=1, pid=2231680, just started\n"
     ]
    },
    {
     "name": "stderr",
     "output_type": "stream",
     "text": [
      "INFO:root:2231680:C 18 Aug 2021 18:34:54.069 # Configuration loaded\n"
     ]
    },
    {
     "name": "stdout",
     "output_type": "stream",
     "text": [
      "2021-08-18 18:34:54,072 - root - INFO - 2231680:C 18 Aug 2021 18:34:54.069 # Configuration loaded\n"
     ]
    },
    {
     "name": "stderr",
     "output_type": "stream",
     "text": [
      "INFO:root:2231680:M 18 Aug 2021 18:34:54.070 * Increased maximum number of open files to 10032 (it was originally set to 4096).\n"
     ]
    },
    {
     "name": "stdout",
     "output_type": "stream",
     "text": [
      "2021-08-18 18:34:54,073 - root - INFO - 2231680:M 18 Aug 2021 18:34:54.070 * Increased maximum number of open files to 10032 (it was originally set to 4096).\n"
     ]
    },
    {
     "name": "stderr",
     "output_type": "stream",
     "text": [
      "INFO:root:2231680:M 18 Aug 2021 18:34:54.070 * monotonic clock: POSIX clock_gettime\n"
     ]
    },
    {
     "name": "stdout",
     "output_type": "stream",
     "text": [
      "2021-08-18 18:34:54,074 - root - INFO - 2231680:M 18 Aug 2021 18:34:54.070 * monotonic clock: POSIX clock_gettime\n"
     ]
    },
    {
     "name": "stderr",
     "output_type": "stream",
     "text": [
      "INFO:root:2231680:M 18 Aug 2021 18:34:54.070 * Running mode=standalone, port=7771.\n"
     ]
    },
    {
     "name": "stdout",
     "output_type": "stream",
     "text": [
      "2021-08-18 18:34:54,074 - root - INFO - 2231680:M 18 Aug 2021 18:34:54.070 * Running mode=standalone, port=7771.\n"
     ]
    },
    {
     "name": "stderr",
     "output_type": "stream",
     "text": [
      "INFO:root:2231680:M 18 Aug 2021 18:34:54.070 # Server initialized\n"
     ]
    },
    {
     "name": "stdout",
     "output_type": "stream",
     "text": [
      "2021-08-18 18:34:54,076 - root - INFO - 2231680:M 18 Aug 2021 18:34:54.070 # Server initialized\n"
     ]
    },
    {
     "name": "stderr",
     "output_type": "stream",
     "text": [
      "INFO:root:2231680:M 18 Aug 2021 18:34:54.070 # WARNING overcommit_memory is set to 0! Background save may fail under low memory condition. To fix this issue add 'vm.overcommit_memory = 1' to /etc/sysctl.conf and then reboot or run the command 'sysctl vm.overcommit_memory=1' for this to take effect.\n"
     ]
    },
    {
     "name": "stdout",
     "output_type": "stream",
     "text": [
      "2021-08-18 18:34:54,076 - root - INFO - 2231680:M 18 Aug 2021 18:34:54.070 # WARNING overcommit_memory is set to 0! Background save may fail under low memory condition. To fix this issue add 'vm.overcommit_memory = 1' to /etc/sysctl.conf and then reboot or run the command 'sysctl vm.overcommit_memory=1' for this to take effect.\n"
     ]
    },
    {
     "name": "stderr",
     "output_type": "stream",
     "text": [
      "INFO:root:2231680:M 18 Aug 2021 18:34:54.071 * Ready to accept connections\n"
     ]
    },
    {
     "name": "stdout",
     "output_type": "stream",
     "text": [
      "2021-08-18 18:34:54,077 - root - INFO - 2231680:M 18 Aug 2021 18:34:54.071 * Ready to accept connections\n"
     ]
    },
    {
     "name": "stderr",
     "output_type": "stream",
     "text": [
      "INFO:root:First time running pistarlab context.\n"
     ]
    },
    {
     "name": "stdout",
     "output_type": "stream",
     "text": [
      "2021-08-18 18:34:54,169 - root - INFO - First time running pistarlab context.\n"
     ]
    },
    {
     "name": "stderr",
     "output_type": "stream",
     "text": [
      "2021-08-18 18:34:54,293 [MainThread  ] [ERROR] [extension_manager] Unable to load extension pistarlab-multigrid, No module named 'gym_multigrid'\n",
      "2021-08-18 18:34:56,008\tWARNING deprecation.py:34 -- DeprecationWarning: `build_torch_policy` has been deprecated. Use `build_policy_class(framework='torch')` instead. This will raise an error in the future!\n",
      "2021-08-18 18:34:56,317 [MainThread  ] [INFO ] [snapshot_helpers] Loading snapshots /home/brandyn/pistarlab/snapshot_repo\n",
      "2021-08-18 18:34:56,371 [MainThread  ] [INFO ] [core] Backend is Ready\n"
     ]
    }
   ],
   "source": [
    "from pistarlab import ctx\n",
    "\n",
    "# Only needed if pistarlab is not running. \n",
    "# NOTE: use ctx.stop_minimal_mode() to shutdown\n",
    "ctx.start_minimal_mode() \n",
    "\n",
    "# Initialize\n",
    "ctx.initialize()"
   ]
  },
  {
   "cell_type": "code",
   "execution_count": 3,
   "metadata": {},
   "outputs": [
    {
     "data": {
      "text/plain": [
       "[]"
      ]
     },
     "execution_count": 3,
     "metadata": {},
     "output_type": "execute_result"
    }
   ],
   "source": [
    "# Check for running tasks\n",
    "ctx.list_tasks(status_filter=['RUNNING'])"
   ]
  },
  {
   "cell_type": "code",
   "execution_count": 4,
   "metadata": {},
   "outputs": [
    {
     "data": {
      "text/plain": [
       "[]"
      ]
     },
     "execution_count": 4,
     "metadata": {},
     "output_type": "execute_result"
    }
   ],
   "source": [
    "# Check for running sessions\n",
    "ctx.list_sessions_detailed(status_filter=[\"RUNNING\"])"
   ]
  },
  {
   "cell_type": "markdown",
   "metadata": {},
   "source": [
    "# Select an Environment"
   ]
  },
  {
   "cell_type": "code",
   "execution_count": 5,
   "metadata": {},
   "outputs": [
    {
     "data": {
      "text/plain": [
       "['test_multiplayer_parallel',\n",
       " 'Adventure-v0',\n",
       " 'Adventure-v4',\n",
       " 'AdventureDeterministic-v0',\n",
       " 'AdventureDeterministic-v4']"
      ]
     },
     "execution_count": 5,
     "metadata": {},
     "output_type": "execute_result"
    }
   ],
   "source": [
    "ctx.list_env_spec_ids()[:5]"
   ]
  },
  {
   "cell_type": "code",
   "execution_count": 6,
   "metadata": {},
   "outputs": [],
   "source": [
    "env_spec_id ='MountainCar-v0'"
   ]
  },
  {
   "cell_type": "code",
   "execution_count": 7,
   "metadata": {},
   "outputs": [
    {
     "data": {
      "text/plain": [
       "{'image_filename': None,\n",
       " 'render.modes': ['rgb_array', 'human'],\n",
       " 'video.frames_per_second': 30,\n",
       " 'render.fps': 30,\n",
       " 'render_mode': 'rgb_array',\n",
       " 'render_stats': False,\n",
       " 'observation_spaces': {'default': {'class_name': 'Box',\n",
       "   'module': 'gym.spaces.box',\n",
       "   'kwargs': {'shape': {'__type': 'tuple', 'values': [2]},\n",
       "    'low': -1.2000000476837158,\n",
       "    'high': 0.6000000238418579},\n",
       "   'args': []}},\n",
       " 'action_spaces': {'default': {'class_name': 'Discrete',\n",
       "   'module': 'gym.spaces.discrete',\n",
       "   'kwargs': {},\n",
       "   'args': [3]}},\n",
       " 'num_players': 1,\n",
       " 'max_num_players': 1,\n",
       " 'players': ['default'],\n",
       " 'possible_players': ['default']}"
      ]
     },
     "execution_count": 7,
     "metadata": {},
     "output_type": "execute_result"
    }
   ],
   "source": [
    "ctx.get_env_spec(env_spec_id).meta"
   ]
  },
  {
   "cell_type": "markdown",
   "metadata": {},
   "source": [
    "## Preview Agent (optional)"
   ]
  },
  {
   "cell_type": "code",
   "execution_count": 37,
   "metadata": {},
   "outputs": [
    {
     "data": {
      "text/plain": [
       "<matplotlib.image.AxesImage at 0x7f617609bad0>"
      ]
     },
     "execution_count": 37,
     "metadata": {},
     "output_type": "execute_result"
    },
    {
     "data": {
      "image/png": "[encoded data removed]",
      "text/plain": [
       "<Figure size 432x288 with 1 Axes>"
      ]
     },
     "metadata": {
      "needs_background": "light"
     },
     "output_type": "display_data"
    }
   ],
   "source": [
    "env  = ctx.get_env_spec_instance(env_spec_id)\n",
    "ob  = env.reset()\n",
    "\n",
    "rendered_ob = env.render(mode=\"rgb_array\")\n",
    "from matplotlib.pyplot import imshow\n",
    "imshow(rendered_ob)"
   ]
  },
  {
   "cell_type": "markdown",
   "metadata": {},
   "source": [
    "# Create an Agent"
   ]
  },
  {
   "cell_type": "code",
   "execution_count": 8,
   "metadata": {},
   "outputs": [],
   "source": [
    "agent_spec_id = \"rllib_A2C\""
   ]
  },
  {
   "cell_type": "code",
   "execution_count": 9,
   "metadata": {},
   "outputs": [
    {
     "data": {
      "text/plain": [
       "'A2C - RLlib'"
      ]
     },
     "execution_count": 9,
     "metadata": {},
     "output_type": "execute_result"
    }
   ],
   "source": [
    "ctx.get_agent_spec(agent_spec_id).displayed_name"
   ]
  },
  {
   "cell_type": "code",
   "execution_count": 10,
   "metadata": {},
   "outputs": [
    {
     "name": "stderr",
     "output_type": "stream",
     "text": [
      "2021-08-18 18:35:08,561 [MainThread  ] [INFO ] [agent] Creating new agent record. A-34\n"
     ]
    }
   ],
   "source": [
    "from pistarlab import Agent\n",
    "agent = Agent.create(spec_id=agent_spec_id)"
   ]
  },
  {
   "cell_type": "code",
   "execution_count": 11,
   "metadata": {},
   "outputs": [
    {
     "data": {
      "text/plain": [
       "id: A-34, spec_id: rllib_A2C"
      ]
     },
     "execution_count": 11,
     "metadata": {},
     "output_type": "execute_result"
    }
   ],
   "source": [
    "agent"
   ]
  },
  {
   "cell_type": "markdown",
   "metadata": {},
   "source": [
    "# Create an Agent Task\n",
    "Here we assign our agent to the environment"
   ]
  },
  {
   "cell_type": "code",
   "execution_count": 12,
   "metadata": {},
   "outputs": [
    {
     "name": "stderr",
     "output_type": "stream",
     "text": [
      "2021-08-18 18:35:11,953 [MainThread  ] [INFO ] [task] task with id:T-74 not found, creating new record.\n"
     ]
    }
   ],
   "source": [
    "from pistarlab import AgentTask\n",
    "task = AgentTask.create(\n",
    "    env_spec_id=env_spec_id,\n",
    "    agent=agent)"
   ]
  },
  {
   "cell_type": "code",
   "execution_count": 14,
   "metadata": {},
   "outputs": [
    {
     "name": "stderr",
     "output_type": "stream",
     "text": [
      "2021-08-18 18:35:15,777 [MainThread  ] [INFO ] [execution_context] Initializing Ray with: {'address': 'auto', 'configure_logging': False, 'ignore_reinit_error': True}\n",
      "2021-08-18 18:35:15,797 [MainThread  ] [INFO ] [worker] Connecting to existing Ray cluster at address: 192.168.1.87:6379\n",
      "2021-08-18 18:35:15,818 [MainThread  ] [INFO ] [execution_context] Connected to Ray\n"
     ]
    },
    {
     "data": {
      "text/plain": [
       "<pistarlab.execution_context.RunFuture at 0x7f62d3275390>"
      ]
     },
     "execution_count": 14,
     "metadata": {},
     "output_type": "execute_result"
    }
   ],
   "source": [
    "# Task will run in background\n",
    "task.run()"
   ]
  },
  {
   "cell_type": "code",
   "execution_count": 26,
   "metadata": {},
   "outputs": [
    {
     "data": {
      "text/plain": [
       "{\"actor_uid\": \"dMnuhv4DHpcGTbpEFF32o3\", \"archived\": false, \"child_tasks\": [], \"config\": {\"session_config\": {}, \"env_spec_id\": \"MountainCar-v0\", \"env_kwargs\": {}, \"agent_id\": \"A-34\", \"agent_run_config\": {}, \"batch_size\": 1, \"checkpoint_freq\": 10, \"status_check_freq_secs\": 2, \"interface_id\": \"run\"}, \"created\": null, \"displayed_name\": null, \"id\": \"T-74\", \"meta\": null, \"name\": null, \"notes\": null, \"parent_task\": null, \"parent_task_id\": null, \"primary_session\": null, \"primary_session_id\": \"S-149\", \"sessions\": null, \"spec\": null, \"spec_id\": \"agent_task\", \"status\": \"TERMINATED\", \"status_msg\": \"\", \"status_timestamp\": null, \"summary\": {\"episode_reward_max\": -200.0, \"episode_reward_min\": -200.0, \"episode_reward_mean\": -200.0, \"episode_len_mean\": 200.0, \"episodes_this_iter\": 65, \"policy_reward_min\": {}, \"policy_reward_max\": {}, \"policy_reward_mean\": {}, \"custom_metrics\": {}, \"hist_stats\": {\"episode_reward\": {\"0\": -200.0, \"1\": -200.0, \"2\": -200.0, \"3\": -200.0, \"4\": -200.0, \"5\": -200.0, \"6\": -200.0, \"7\": -200.0, \"8\": -200.0, \"9\": -200.0, \"10\": -200.0, \"11\": -200.0, \"12\": -200.0, \"13\": -200.0, \"14\": -200.0, \"15\": -200.0, \"16\": -200.0, \"17\": -200.0, \"18\": -200.0, \"19\": -200.0, \"20\": -200.0, \"21\": -200.0, \"22\": -200.0, \"23\": -200.0, \"24\": -200.0, \"25\": -200.0, \"26\": -200.0, \"27\": -200.0, \"28\": -200.0, \"29\": -200.0, \"30\": -200.0, \"31\": -200.0, \"32\": -200.0, \"33\": -200.0, \"34\": -200.0, \"35\": -200.0, \"36\": -200.0, \"37\": -200.0, \"38\": -200.0, \"39\": -200.0, \"40\": -200.0, \"41\": -200.0, \"42\": -200.0, \"43\": -200.0, \"44\": -200.0, \"45\": -200.0, \"46\": -200.0, \"47\": -200.0, \"48\": -200.0, \"49\": -200.0, \"50\": -200.0, \"51\": -200.0, \"52\": -200.0, \"53\": -200.0, \"54\": -200.0, \"55\": -200.0, \"56\": -200.0, \"57\": -200.0, \"58\": -200.0, \"59\": -200.0, \"60\": -200.0, \"61\": -200.0, \"62\": -200.0, \"63\": -200.0, \"64\": -200.0, \"65\": -200.0, \"66\": -200.0, \"67\": -200.0, \"68\": -200.0, \"69\": -200.0, \"70\": -200.0, \"71\": -200.0, \"72\": -200.0, \"73\": -200.0, \"74\": -200.0, \"75\": -200.0, \"76\": -200.0, \"77\": -200.0, \"78\": -200.0, \"79\": -200.0, \"80\": -200.0, \"81\": -200.0, \"82\": -200.0, \"83\": -200.0, \"84\": -200.0, \"85\": -200.0, \"86\": -200.0, \"87\": -200.0, \"88\": -200.0, \"89\": -200.0, \"90\": -200.0, \"91\": -200.0, \"92\": -200.0, \"93\": -200.0, \"94\": -200.0, \"95\": -200.0, \"96\": -200.0, \"97\": -200.0, \"98\": -200.0, \"99\": -200.0}, \"episode_lengths\": {\"0\": 200, \"1\": 200, \"2\": 200, \"3\": 200, \"4\": 200, \"5\": 200, \"6\": 200, \"7\": 200, \"8\": 200, \"9\": 200, \"10\": 200, \"11\": 200, \"12\": 200, \"13\": 200, \"14\": 200, \"15\": 200, \"16\": 200, \"17\": 200, \"18\": 200, \"19\": 200, \"20\": 200, \"21\": 200, \"22\": 200, \"23\": 200, \"24\": 200, \"25\": 200, \"26\": 200, \"27\": 200, \"28\": 200, \"29\": 200, \"30\": 200, \"31\": 200, \"32\": 200, \"33\": 200, \"34\": 200, \"35\": 200, \"36\": 200, \"37\": 200, \"38\": 200, \"39\": 200, \"40\": 200, \"41\": 200, \"42\": 200, \"43\": 200, \"44\": 200, \"45\": 200, \"46\": 200, \"47\": 200, \"48\": 200, \"49\": 200, \"50\": 200, \"51\": 200, \"52\": 200, \"53\": 200, \"54\": 200, \"55\": 200, \"56\": 200, \"57\": 200, \"58\": 200, \"59\": 200, \"60\": 200, \"61\": 200, \"62\": 200, \"63\": 200, \"64\": 200, \"65\": 200, \"66\": 200, \"67\": 200, \"68\": 200, \"69\": 200, \"70\": 200, \"71\": 200, \"72\": 200, \"73\": 200, \"74\": 200, \"75\": 200, \"76\": 200, \"77\": 200, \"78\": 200, \"79\": 200, \"80\": 200, \"81\": 200, \"82\": 200, \"83\": 200, \"84\": 200, \"85\": 200, \"86\": 200, \"87\": 200, \"88\": 200, \"89\": 200, \"90\": 200, \"91\": 200, \"92\": 200, \"93\": 200, \"94\": 200, \"95\": 200, \"96\": 200, \"97\": 200, \"98\": 200, \"99\": 200}}, \"sampler_perf\": {\"mean_env_wait_ms\": 0.1432565474848852, \"mean_raw_obs_processing_ms\": 0.07167288078114332, \"mean_inference_ms\": 0.5485838633225826, \"mean_action_processing_ms\": 0.04044853477025259}, \"off_policy_estimator\": {}, \"num_healthy_workers\": 0, \"timesteps_total\": 25000, \"timers\": {\"sample_time_ms\": 184.933, \"sample_throughput\": 1081.471, \"learn_time_ms\": 2.73, \"learn_throughput\": 73266.791}, \"info\": {\"learner\": {\"default_policy\": {\"cur_lr\": 9.999999747378752e-05, \"policy_loss\": -1889.44091796875, \"policy_entropy\": 205.03306579589844, \"var_gnorm\": 23.049428939819336, \"vf_loss\": 11305.0908203125, \"model\": {}, \"grad_gnorm\": 40.0, \"vf_explained_var\": 0.0051940083503723145}}, \"num_steps_sampled\": 25000, \"num_steps_trained\": 25000}, \"done\": false, \"episodes_total\": 125, \"training_iteration\": 3, \"experiment_id\": \"80d1a2b0508644b3a989088a6dd4bf7f\", \"date\": \"2021-08-18_18-35-39\", \"timestamp\": 1629336939, \"time_this_iter_s\": 10.116687059402466, \"time_total_s\": 20.356388330459595, \"pid\": 2232298, \"hostname\": \"m87\", \"node_ip\": \"192.168.1.87\", \"time_since_restore\": 20.356388330459595, \"timesteps_since_restore\": 0, \"iterations_since_restore\": 3, \"perf\": {\"cpu_util_percent\": 18.33636363636364, \"ram_util_percent\": 42.699999999999996}}, \"type_code\": 1}"
      ]
     },
     "execution_count": 26,
     "metadata": {},
     "output_type": "execute_result"
    }
   ],
   "source": [
    "task.get_dbmodel()"
   ]
  },
  {
   "cell_type": "code",
   "execution_count": 17,
   "metadata": {},
   "outputs": [
    {
     "data": {
      "text/plain": [
       "['S-149']"
      ]
     },
     "execution_count": 17,
     "metadata": {},
     "output_type": "execute_result"
    },
    {
     "name": "stderr",
     "output_type": "stream",
     "text": [
      "\u001b[2m\u001b[36m(pid=2232298)\u001b[0m 2021-08-18 18:35:29,394 [Dummy-2     ] [INFO ] [agent] \tTraining iteration complete T-74 - 1, total_timesteps: 12000, episodes_total:60\n",
      "\u001b[2m\u001b[36m(pid=2232298)\u001b[0m 2021-08-18 18:35:29,402 [Dummy-2     ] [INFO ] [agent] Training Iteration T-74 - 2\n"
     ]
    }
   ],
   "source": [
    "task.get_sessions()"
   ]
  },
  {
   "cell_type": "code",
   "execution_count": 33,
   "metadata": {},
   "outputs": [
    {
     "data": {
      "text/plain": [
       "[{'runtime': 20.68038511276245,\n",
       "  'last_update': 1629336939.7110083,\n",
       "  'step_count': 25000,\n",
       "  'reward_total': -25000.0,\n",
       "  'episode_count': 125,\n",
       "  'episode_step_count': 0,\n",
       "  'episode_reward_total': 0,\n",
       "  'reward_mean_windowed': -1.0,\n",
       "  'step_latency_mean_windowed': 0.0,\n",
       "  'episode_reward_total_windowed': 0,\n",
       "  'best_ep_reward_total': -200.0,\n",
       "  'best_ep_reward_total_ep_count': 0,\n",
       "  'best_ep_reward_mean_windowed': -200.0,\n",
       "  'best_ep_reward_mean_windowed_ep_count': 2}]"
      ]
     },
     "execution_count": 33,
     "metadata": {},
     "output_type": "execute_result"
    }
   ],
   "source": [
    "# Get session Summaries\n",
    "task.get_session_summaries()"
   ]
  },
  {
   "cell_type": "code",
   "execution_count": 30,
   "metadata": {},
   "outputs": [
    {
     "data": {
      "text/plain": [
       "{'learner': {'default_policy': {'cur_lr': 9.999999747378752e-05,\n",
       "   'policy_loss': -1889.44091796875,\n",
       "   'policy_entropy': 205.03306579589844,\n",
       "   'var_gnorm': 23.049428939819336,\n",
       "   'vf_loss': 11305.0908203125,\n",
       "   'model': {},\n",
       "   'grad_gnorm': 40.0,\n",
       "   'vf_explained_var': 0.0051940083503723145}},\n",
       " 'num_steps_sampled': 25000,\n",
       " 'num_steps_trained': 25000}"
      ]
     },
     "execution_count": 30,
     "metadata": {},
     "output_type": "execute_result"
    }
   ],
   "source": [
    "# Get task info, results depend on the Agent Spec used\n",
    "task.get_summary()['info']"
   ]
  },
  {
   "cell_type": "markdown",
   "metadata": {},
   "source": [
    "# Shutdown Task"
   ]
  },
  {
   "cell_type": "code",
   "execution_count": 19,
   "metadata": {},
   "outputs": [
    {
     "name": "stderr",
     "output_type": "stream",
     "text": [
      "2021-08-18 18:35:38,358 [MainThread  ] [INFO ] [task] Shutting down task runnerT-74\n",
      "\u001b[2m\u001b[36m(pid=2232298)\u001b[0m 2021-08-18 18:35:39,530 [Dummy-2     ] [INFO ] [agent] \tTraining iteration complete T-74 - 2, total_timesteps: 25000, episodes_total:125\n",
      "\u001b[2m\u001b[36m(pid=2232298)\u001b[0m 2021-08-18 18:35:39,534 [Dummy-2     ] [INFO ] [task_runner] Terminating work for T-74 as requested\n",
      "\u001b[2m\u001b[36m(pid=2232298)\u001b[0m 2021-08-18 18:35:39,546 [Dummy-2     ] [INFO ] [agent] Agent A-34 state saved state path:/home/brandyn/pistarlab/data/agent/A-34/checkpoints/20210818-183539-546_m87_2232298\n",
      "\u001b[2m\u001b[36m(pid=2232298)\u001b[0m 2021-08-18 18:35:39,725 [Dummy-2     ] [INFO ] [session] Ending Session\n"
     ]
    }
   ],
   "source": [
    "task.shutdown()"
   ]
  },
  {
   "cell_type": "markdown",
   "metadata": {},
   "source": [
    "# Inspect Session"
   ]
  },
  {
   "cell_type": "code",
   "execution_count": 21,
   "metadata": {},
   "outputs": [
    {
     "data": {
      "text/plain": [
       "{'runtime': 20.68038511276245,\n",
       " 'last_update': 1629336939.7110083,\n",
       " 'step_count': 25000,\n",
       " 'reward_total': -25000.0,\n",
       " 'episode_count': 125,\n",
       " 'episode_step_count': 0,\n",
       " 'episode_reward_total': 0,\n",
       " 'reward_mean_windowed': -1.0,\n",
       " 'step_latency_mean_windowed': 0.0,\n",
       " 'episode_reward_total_windowed': 0,\n",
       " 'best_ep_reward_total': -200.0,\n",
       " 'best_ep_reward_total_ep_count': 0,\n",
       " 'best_ep_reward_mean_windowed': -200.0,\n",
       " 'best_ep_reward_mean_windowed_ep_count': 2}"
      ]
     },
     "execution_count": 21,
     "metadata": {},
     "output_type": "execute_result"
    }
   ],
   "source": [
    "ctx.get_session(\"S-149\").summary"
   ]
  },
  {
   "cell_type": "code",
   "execution_count": 23,
   "metadata": {},
   "outputs": [
    {
     "data": {
      "text/plain": [
       "{'tmp_session': False,\n",
       " 'max_episodes': None,\n",
       " 'max_steps': None,\n",
       " 'max_steps_in_episode': None,\n",
       " 'episode_record_freq': 1000,\n",
       " 'step_log_freq': 100,\n",
       " 'episode_record_preview_interval': 1,\n",
       " 'episode_log_freq': 1,\n",
       " 'preview_rendering': True,\n",
       " 'frame_stream_enabled': False,\n",
       " 'meta': {},\n",
       " 'wrappers': []}"
      ]
     },
     "execution_count": 23,
     "metadata": {},
     "output_type": "execute_result"
    }
   ],
   "source": [
    "ctx.get_session(\"S-149\").config"
   ]
  },
  {
   "cell_type": "code",
   "execution_count": 35,
   "metadata": {},
   "outputs": [
    {
     "data": {
      "text/plain": [
       "{'_sa_instance_state': <sqlalchemy.orm.state.InstanceState at 0x7f61eda21e10>,\n",
       " 'session_type': 'RL_SINGLEPLAYER_SESS',\n",
       " 'status_msg': '',\n",
       " 'agent_id': 'A-34',\n",
       " 'status_timestamp': datetime.datetime(2021, 8, 18, 18, 35, 39, 720256),\n",
       " 'id': 'S-149',\n",
       " 'agent_run_config': {'policy_name': 'A2C',\n",
       "  'trainer_config': {'num_workers': 0,\n",
       "   'num_envs_per_worker': 1,\n",
       "   'create_env_on_driver': False,\n",
       "   'rollout_fragment_length': 20,\n",
       "   'batch_mode': 'truncate_episodes',\n",
       "   'num_gpus': 0,\n",
       "   'train_batch_size': 200,\n",
       "   'model': {'fcnet_hiddens': [256, 256],\n",
       "    'fcnet_activation': 'tanh',\n",
       "    'conv_filters': None,\n",
       "    'conv_activation': 'relu',\n",
       "    'free_log_std': False,\n",
       "    'no_final_linear': False,\n",
       "    'vf_share_layers': True,\n",
       "    'use_lstm': False,\n",
       "    'max_seq_len': 20,\n",
       "    'lstm_cell_size': 256,\n",
       "    'lstm_use_prev_action': False,\n",
       "    'lstm_use_prev_reward': False,\n",
       "    '_time_major': False,\n",
       "    'use_attention': False,\n",
       "    'attention_num_transformer_units': 1,\n",
       "    'attention_dim': 64,\n",
       "    'attention_num_heads': 1,\n",
       "    'attention_head_dim': 32,\n",
       "    'attention_memory_inference': 50,\n",
       "    'attention_memory_training': 50,\n",
       "    'attention_position_wise_mlp_dim': 32,\n",
       "    'attention_init_gru_gate_bias': 2.0,\n",
       "    'num_framestacks': 'auto',\n",
       "    'dim': 84,\n",
       "    'grayscale': False,\n",
       "    'zero_mean': True,\n",
       "    'custom_model': None,\n",
       "    'custom_model_config': {},\n",
       "    'custom_action_dist': None,\n",
       "    'custom_preprocessor': None,\n",
       "    'lstm_use_prev_action_reward': -1,\n",
       "    'framestack': True},\n",
       "   'optimizer': {},\n",
       "   'gamma': 0.99,\n",
       "   'horizon': None,\n",
       "   'soft_horizon': False,\n",
       "   'no_done_at_end': False,\n",
       "   'env_config': {},\n",
       "   'env': None,\n",
       "   'normalize_actions': False,\n",
       "   'clip_rewards': None,\n",
       "   'clip_actions': True,\n",
       "   'preprocessor_pref': 'deepmind',\n",
       "   'lr': 0.0001,\n",
       "   'monitor': False,\n",
       "   'log_level': 'WARN',\n",
       "   'ignore_worker_failures': False,\n",
       "   'log_sys_usage': True,\n",
       "   'fake_sampler': False,\n",
       "   'framework': 'tf',\n",
       "   'eager_tracing': False,\n",
       "   'explore': True,\n",
       "   'exploration_config': {'type': 'StochasticSampling'},\n",
       "   'evaluation_interval': None,\n",
       "   'evaluation_num_episodes': 10,\n",
       "   'in_evaluation': False,\n",
       "   'evaluation_config': {},\n",
       "   'evaluation_num_workers': 0,\n",
       "   'custom_eval_function': None,\n",
       "   'sample_async': False,\n",
       "   '_use_trajectory_view_api': True,\n",
       "   'sample_collector': \"ENCODE_FAILED:UNKNOWN,as_str:<class 'ray.rllib.evaluation.collectors.simple_list_collector.SimpleListCollector'>\",\n",
       "   'observation_filter': 'NoFilter',\n",
       "   'synchronize_filters': True,\n",
       "   'tf_session_args': {'intra_op_parallelism_threads': 2,\n",
       "    'inter_op_parallelism_threads': 2,\n",
       "    'gpu_options': {'allow_growth': True},\n",
       "    'log_device_placement': False,\n",
       "    'device_count': {'CPU': 1},\n",
       "    'allow_soft_placement': True},\n",
       "   'local_tf_session_args': {'intra_op_parallelism_threads': 8,\n",
       "    'inter_op_parallelism_threads': 8},\n",
       "   'compress_observations': False,\n",
       "   'collect_metrics_timeout': 180,\n",
       "   'metrics_smoothing_episodes': 100,\n",
       "   'remote_worker_envs': False,\n",
       "   'remote_env_batch_wait_ms': 0,\n",
       "   'min_iter_time_s': 10,\n",
       "   'timesteps_per_iteration': 0,\n",
       "   'seed': None,\n",
       "   'extra_python_environs_for_driver': {},\n",
       "   'extra_python_environs_for_worker': {},\n",
       "   'num_cpus_per_worker': 1,\n",
       "   'num_gpus_per_worker': 0,\n",
       "   'custom_resources_per_worker': {},\n",
       "   'num_cpus_for_driver': 1,\n",
       "   'memory': 0,\n",
       "   'object_store_memory': 0,\n",
       "   'memory_per_worker': 0,\n",
       "   'object_store_memory_per_worker': 0,\n",
       "   'input': 'sampler',\n",
       "   'input_evaluation': ['is', 'wis'],\n",
       "   'postprocess_inputs': False,\n",
       "   'shuffle_buffer_size': 0,\n",
       "   'output': None,\n",
       "   'output_compress_columns': ['obs', 'new_obs'],\n",
       "   'output_max_file_size': 67108864,\n",
       "   'multiagent': {'policies': {},\n",
       "    'policy_mapping_fn': None,\n",
       "    'policies_to_train': None,\n",
       "    'observation_fn': None,\n",
       "    'replay_mode': 'independent',\n",
       "    'count_steps_by': 'env_steps'},\n",
       "   'logger_config': None,\n",
       "   'replay_sequence_length': 1,\n",
       "   'use_critic': True,\n",
       "   'use_gae': True,\n",
       "   'lambda': 1.0,\n",
       "   'grad_clip': 40.0,\n",
       "   'lr_schedule': None,\n",
       "   'vf_loss_coeff': 0.5,\n",
       "   'entropy_coeff': 0.01,\n",
       "   'microbatch_size': None},\n",
       "  'interfaces': {'run': {'interface_id': 'run',\n",
       "    'interface_type': 'rl',\n",
       "    'auto_config_spaces': True,\n",
       "    'observation_space': None,\n",
       "    'action_space': None}},\n",
       "  'components': None},\n",
       " 'parent_session_id': None,\n",
       " 'label': None,\n",
       " 'env_spec_id': 'MountainCar-v0',\n",
       " 'run_info': None,\n",
       " 'comments': None,\n",
       " 'env_spec_version': None,\n",
       " 'summary': {'runtime': 20.68038511276245,\n",
       "  'last_update': 1629336939.7110083,\n",
       "  'step_count': 25000,\n",
       "  'reward_total': -25000.0,\n",
       "  'episode_count': 125,\n",
       "  'episode_step_count': 0,\n",
       "  'episode_reward_total': 0,\n",
       "  'reward_mean_windowed': -1.0,\n",
       "  'step_latency_mean_windowed': 0.0,\n",
       "  'episode_reward_total_windowed': 0,\n",
       "  'best_ep_reward_total': -200.0,\n",
       "  'best_ep_reward_total_ep_count': 0,\n",
       "  'best_ep_reward_mean_windowed': -200.0,\n",
       "  'best_ep_reward_mean_windowed_ep_count': 2},\n",
       " 'created': datetime.datetime(2021, 8, 19, 1, 35, 18),\n",
       " 'env_spec_config': None,\n",
       " 'task_id': 'T-74',\n",
       " 'archived': False,\n",
       " 'config': {'tmp_session': False,\n",
       "  'max_episodes': None,\n",
       "  'max_steps': None,\n",
       "  'max_steps_in_episode': None,\n",
       "  'episode_record_freq': 1000,\n",
       "  'step_log_freq': 100,\n",
       "  'episode_record_preview_interval': 1,\n",
       "  'episode_log_freq': 1,\n",
       "  'preview_rendering': True,\n",
       "  'frame_stream_enabled': False,\n",
       "  'meta': {},\n",
       "  'wrappers': []},\n",
       " 'status': 'TERMINATED',\n",
       " 'agent': {\"archived\": false, \"components\": [], \"config\": {\"policy_name\": \"A2C\", \"trainer_config\": {\"num_workers\": 0, \"num_envs_per_worker\": 1, \"create_env_on_driver\": false, \"rollout_fragment_length\": 20, \"batch_mode\": \"truncate_episodes\", \"num_gpus\": 0, \"train_batch_size\": 200, \"model\": {\"fcnet_hiddens\": [256, 256], \"fcnet_activation\": \"tanh\", \"conv_filters\": null, \"conv_activation\": \"relu\", \"free_log_std\": false, \"no_final_linear\": false, \"vf_share_layers\": true, \"use_lstm\": false, \"max_seq_len\": 20, \"lstm_cell_size\": 256, \"lstm_use_prev_action\": false, \"lstm_use_prev_reward\": false, \"_time_major\": false, \"use_attention\": false, \"attention_num_transformer_units\": 1, \"attention_dim\": 64, \"attention_num_heads\": 1, \"attention_head_dim\": 32, \"attention_memory_inference\": 50, \"attention_memory_training\": 50, \"attention_position_wise_mlp_dim\": 32, \"attention_init_gru_gate_bias\": 2.0, \"num_framestacks\": \"auto\", \"dim\": 84, \"grayscale\": false, \"zero_mean\": true, \"custom_model\": null, \"custom_model_config\": {}, \"custom_action_dist\": null, \"custom_preprocessor\": null, \"lstm_use_prev_action_reward\": -1, \"framestack\": true}, \"optimizer\": {}, \"gamma\": 0.99, \"horizon\": null, \"soft_horizon\": false, \"no_done_at_end\": false, \"env_config\": {}, \"env\": null, \"normalize_actions\": false, \"clip_rewards\": null, \"clip_actions\": true, \"preprocessor_pref\": \"deepmind\", \"lr\": 0.0001, \"monitor\": false, \"log_level\": \"WARN\", \"ignore_worker_failures\": false, \"log_sys_usage\": true, \"fake_sampler\": false, \"framework\": \"tf\", \"eager_tracing\": false, \"explore\": true, \"exploration_config\": {\"type\": \"StochasticSampling\"}, \"evaluation_interval\": null, \"evaluation_num_episodes\": 10, \"in_evaluation\": false, \"evaluation_config\": {}, \"evaluation_num_workers\": 0, \"custom_eval_function\": null, \"sample_async\": false, \"_use_trajectory_view_api\": true, \"sample_collector\": \"ENCODE_FAILED:UNKNOWN,as_str:<class 'ray.rllib.evaluation.collectors.simple_list_collector.SimpleListCollector'>\", \"observation_filter\": \"NoFilter\", \"synchronize_filters\": true, \"tf_session_args\": {\"intra_op_parallelism_threads\": 2, \"inter_op_parallelism_threads\": 2, \"gpu_options\": {\"allow_growth\": true}, \"log_device_placement\": false, \"device_count\": {\"CPU\": 1}, \"allow_soft_placement\": true}, \"local_tf_session_args\": {\"intra_op_parallelism_threads\": 8, \"inter_op_parallelism_threads\": 8}, \"compress_observations\": false, \"collect_metrics_timeout\": 180, \"metrics_smoothing_episodes\": 100, \"remote_worker_envs\": false, \"remote_env_batch_wait_ms\": 0, \"min_iter_time_s\": 10, \"timesteps_per_iteration\": 0, \"seed\": null, \"extra_python_environs_for_driver\": {}, \"extra_python_environs_for_worker\": {}, \"num_cpus_per_worker\": 1, \"num_gpus_per_worker\": 0, \"custom_resources_per_worker\": {}, \"num_cpus_for_driver\": 1, \"memory\": 0, \"object_store_memory\": 0, \"memory_per_worker\": 0, \"object_store_memory_per_worker\": 0, \"input\": \"sampler\", \"input_evaluation\": [\"is\", \"wis\"], \"postprocess_inputs\": false, \"shuffle_buffer_size\": 0, \"output\": null, \"output_compress_columns\": [\"obs\", \"new_obs\"], \"output_max_file_size\": 67108864, \"multiagent\": {\"policies\": {}, \"policy_mapping_fn\": null, \"policies_to_train\": null, \"observation_fn\": null, \"replay_mode\": \"independent\", \"count_steps_by\": \"env_steps\"}, \"logger_config\": null, \"replay_sequence_length\": 1, \"use_critic\": true, \"use_gae\": true, \"lambda\": 1.0, \"grad_clip\": 40.0, \"lr_schedule\": null, \"vf_loss_coeff\": 0.5, \"entropy_coeff\": 0.01, \"microbatch_size\": null}, \"interfaces\": {\"run\": {\"interface_id\": \"run\", \"interface_type\": \"rl\", \"auto_config_spaces\": false, \"observation_space\": {\"class_name\": \"Box\", \"module\": \"gym.spaces.box\", \"kwargs\": {\"shape\": {\"__type\": \"tuple\", \"values\": [2]}, \"low\": -1.2000000476837158, \"high\": 0.6000000238418579}, \"args\": []}, \"action_space\": {\"class_name\": \"Discrete\", \"module\": \"gym.spaces.discrete\", \"kwargs\": {}, \"args\": [3]}}}, \"components\": null}, \"created\": null, \"displayed_name\": null, \"id\": \"A-34\", \"last_checkpoint\": {\"id\": \"20210818-183539-546_m87_2232298\", \"meta\": {\"timestamp\": 1629336939.5395002}}, \"meta\": {\"spec_version\": \"0.0.1-dev\", \"spec_extension_id\": \"pistarlab-rllib\", \"spec_extension_version\": \"0.0.1-dev\"}, \"name\": null, \"notes\": null, \"seed\": \"0x9aab8ef5\", \"sessions\": null, \"spec\": null, \"spec_id\": \"rllib_A2C\", \"stats\": null, \"tags\": []},\n",
       " 'child_sessions': [],\n",
       " 'env_spec': {\"config\": {\"default_render_mode\": null, \"env_kwargs\": {\"id\": \"MountainCar-v0\"}, \"default_wrappers\": []}, \"created\": null, \"description\": null, \"displayed_name\": \"MountainCar-v0\", \"entry_point\": \"pistarlab.utils.gym_importer:gym_make\", \"env_type\": \"RL_SINGLEPLAYER_ENV\", \"environment\": null, \"environment_id\": \"gym_classic_and_box2d\", \"id\": \"MountainCar-v0\", \"meta\": {\"image_filename\": null, \"render.modes\": [\"rgb_array\", \"human\"], \"video.frames_per_second\": 30, \"render.fps\": 30, \"render_mode\": \"rgb_array\", \"render_stats\": false, \"observation_spaces\": {\"default\": {\"class_name\": \"Box\", \"module\": \"gym.spaces.box\", \"kwargs\": {\"shape\": {\"__type\": \"tuple\", \"values\": [2]}, \"low\": -1.2000000476837158, \"high\": 0.6000000238418579}, \"args\": []}}, \"action_spaces\": {\"default\": {\"class_name\": \"Discrete\", \"module\": \"gym.spaces.discrete\", \"kwargs\": {}, \"args\": [3]}}, \"num_players\": 1, \"max_num_players\": 1, \"players\": [\"default\"], \"possible_players\": [\"default\"]}, \"params\": {}, \"sessions\": null, \"spec_displayed_name\": \"MountainCar-v0\", \"tags\": \"\", \"user_defined\": false},\n",
       " 'linked_tasks': [{\"actor_uid\": \"dMnuhv4DHpcGTbpEFF32o3\", \"archived\": false, \"child_tasks\": [], \"config\": {\"session_config\": {}, \"env_spec_id\": \"MountainCar-v0\", \"env_kwargs\": {}, \"agent_id\": \"A-34\", \"agent_run_config\": {}, \"batch_size\": 1, \"checkpoint_freq\": 10, \"status_check_freq_secs\": 2, \"interface_id\": \"run\"}, \"created\": null, \"displayed_name\": null, \"id\": \"T-74\", \"meta\": null, \"name\": null, \"notes\": null, \"parent_task\": null, \"parent_task_id\": null, \"primary_session\": null, \"primary_session_id\": \"S-149\", \"sessions\": null, \"spec\": null, \"spec_id\": \"agent_task\", \"status\": \"TERMINATED\", \"status_msg\": \"\", \"status_timestamp\": null, \"summary\": {\"episode_reward_max\": -200.0, \"episode_reward_min\": -200.0, \"episode_reward_mean\": -200.0, \"episode_len_mean\": 200.0, \"episodes_this_iter\": 65, \"policy_reward_min\": {}, \"policy_reward_max\": {}, \"policy_reward_mean\": {}, \"custom_metrics\": {}, \"hist_stats\": {\"episode_reward\": {\"0\": -200.0, \"1\": -200.0, \"2\": -200.0, \"3\": -200.0, \"4\": -200.0, \"5\": -200.0, \"6\": -200.0, \"7\": -200.0, \"8\": -200.0, \"9\": -200.0, \"10\": -200.0, \"11\": -200.0, \"12\": -200.0, \"13\": -200.0, \"14\": -200.0, \"15\": -200.0, \"16\": -200.0, \"17\": -200.0, \"18\": -200.0, \"19\": -200.0, \"20\": -200.0, \"21\": -200.0, \"22\": -200.0, \"23\": -200.0, \"24\": -200.0, \"25\": -200.0, \"26\": -200.0, \"27\": -200.0, \"28\": -200.0, \"29\": -200.0, \"30\": -200.0, \"31\": -200.0, \"32\": -200.0, \"33\": -200.0, \"34\": -200.0, \"35\": -200.0, \"36\": -200.0, \"37\": -200.0, \"38\": -200.0, \"39\": -200.0, \"40\": -200.0, \"41\": -200.0, \"42\": -200.0, \"43\": -200.0, \"44\": -200.0, \"45\": -200.0, \"46\": -200.0, \"47\": -200.0, \"48\": -200.0, \"49\": -200.0, \"50\": -200.0, \"51\": -200.0, \"52\": -200.0, \"53\": -200.0, \"54\": -200.0, \"55\": -200.0, \"56\": -200.0, \"57\": -200.0, \"58\": -200.0, \"59\": -200.0, \"60\": -200.0, \"61\": -200.0, \"62\": -200.0, \"63\": -200.0, \"64\": -200.0, \"65\": -200.0, \"66\": -200.0, \"67\": -200.0, \"68\": -200.0, \"69\": -200.0, \"70\": -200.0, \"71\": -200.0, \"72\": -200.0, \"73\": -200.0, \"74\": -200.0, \"75\": -200.0, \"76\": -200.0, \"77\": -200.0, \"78\": -200.0, \"79\": -200.0, \"80\": -200.0, \"81\": -200.0, \"82\": -200.0, \"83\": -200.0, \"84\": -200.0, \"85\": -200.0, \"86\": -200.0, \"87\": -200.0, \"88\": -200.0, \"89\": -200.0, \"90\": -200.0, \"91\": -200.0, \"92\": -200.0, \"93\": -200.0, \"94\": -200.0, \"95\": -200.0, \"96\": -200.0, \"97\": -200.0, \"98\": -200.0, \"99\": -200.0}, \"episode_lengths\": {\"0\": 200, \"1\": 200, \"2\": 200, \"3\": 200, \"4\": 200, \"5\": 200, \"6\": 200, \"7\": 200, \"8\": 200, \"9\": 200, \"10\": 200, \"11\": 200, \"12\": 200, \"13\": 200, \"14\": 200, \"15\": 200, \"16\": 200, \"17\": 200, \"18\": 200, \"19\": 200, \"20\": 200, \"21\": 200, \"22\": 200, \"23\": 200, \"24\": 200, \"25\": 200, \"26\": 200, \"27\": 200, \"28\": 200, \"29\": 200, \"30\": 200, \"31\": 200, \"32\": 200, \"33\": 200, \"34\": 200, \"35\": 200, \"36\": 200, \"37\": 200, \"38\": 200, \"39\": 200, \"40\": 200, \"41\": 200, \"42\": 200, \"43\": 200, \"44\": 200, \"45\": 200, \"46\": 200, \"47\": 200, \"48\": 200, \"49\": 200, \"50\": 200, \"51\": 200, \"52\": 200, \"53\": 200, \"54\": 200, \"55\": 200, \"56\": 200, \"57\": 200, \"58\": 200, \"59\": 200, \"60\": 200, \"61\": 200, \"62\": 200, \"63\": 200, \"64\": 200, \"65\": 200, \"66\": 200, \"67\": 200, \"68\": 200, \"69\": 200, \"70\": 200, \"71\": 200, \"72\": 200, \"73\": 200, \"74\": 200, \"75\": 200, \"76\": 200, \"77\": 200, \"78\": 200, \"79\": 200, \"80\": 200, \"81\": 200, \"82\": 200, \"83\": 200, \"84\": 200, \"85\": 200, \"86\": 200, \"87\": 200, \"88\": 200, \"89\": 200, \"90\": 200, \"91\": 200, \"92\": 200, \"93\": 200, \"94\": 200, \"95\": 200, \"96\": 200, \"97\": 200, \"98\": 200, \"99\": 200}}, \"sampler_perf\": {\"mean_env_wait_ms\": 0.1432565474848852, \"mean_raw_obs_processing_ms\": 0.07167288078114332, \"mean_inference_ms\": 0.5485838633225826, \"mean_action_processing_ms\": 0.04044853477025259}, \"off_policy_estimator\": {}, \"num_healthy_workers\": 0, \"timesteps_total\": 25000, \"timers\": {\"sample_time_ms\": 184.933, \"sample_throughput\": 1081.471, \"learn_time_ms\": 2.73, \"learn_throughput\": 73266.791}, \"info\": {\"learner\": {\"default_policy\": {\"cur_lr\": 9.999999747378752e-05, \"policy_loss\": -1889.44091796875, \"policy_entropy\": 205.03306579589844, \"var_gnorm\": 23.049428939819336, \"vf_loss\": 11305.0908203125, \"model\": {}, \"grad_gnorm\": 40.0, \"vf_explained_var\": 0.0051940083503723145}}, \"num_steps_sampled\": 25000, \"num_steps_trained\": 25000}, \"done\": false, \"episodes_total\": 125, \"training_iteration\": 3, \"experiment_id\": \"80d1a2b0508644b3a989088a6dd4bf7f\", \"date\": \"2021-08-18_18-35-39\", \"timestamp\": 1629336939, \"time_this_iter_s\": 10.116687059402466, \"time_total_s\": 20.356388330459595, \"pid\": 2232298, \"hostname\": \"m87\", \"node_ip\": \"192.168.1.87\", \"time_since_restore\": 20.356388330459595, \"timesteps_since_restore\": 0, \"iterations_since_restore\": 3, \"perf\": {\"cpu_util_percent\": 18.33636363636364, \"ram_util_percent\": 42.699999999999996}}, \"type_code\": 1}],\n",
       " 'parent_session': None,\n",
       " 'task': {\"actor_uid\": \"dMnuhv4DHpcGTbpEFF32o3\", \"archived\": false, \"child_tasks\": [], \"config\": {\"session_config\": {}, \"env_spec_id\": \"MountainCar-v0\", \"env_kwargs\": {}, \"agent_id\": \"A-34\", \"agent_run_config\": {}, \"batch_size\": 1, \"checkpoint_freq\": 10, \"status_check_freq_secs\": 2, \"interface_id\": \"run\"}, \"created\": null, \"displayed_name\": null, \"id\": \"T-74\", \"meta\": null, \"name\": null, \"notes\": null, \"parent_task\": null, \"parent_task_id\": null, \"primary_session\": null, \"primary_session_id\": \"S-149\", \"sessions\": null, \"spec\": null, \"spec_id\": \"agent_task\", \"status\": \"TERMINATED\", \"status_msg\": \"\", \"status_timestamp\": null, \"summary\": {\"episode_reward_max\": -200.0, \"episode_reward_min\": -200.0, \"episode_reward_mean\": -200.0, \"episode_len_mean\": 200.0, \"episodes_this_iter\": 65, \"policy_reward_min\": {}, \"policy_reward_max\": {}, \"policy_reward_mean\": {}, \"custom_metrics\": {}, \"hist_stats\": {\"episode_reward\": {\"0\": -200.0, \"1\": -200.0, \"2\": -200.0, \"3\": -200.0, \"4\": -200.0, \"5\": -200.0, \"6\": -200.0, \"7\": -200.0, \"8\": -200.0, \"9\": -200.0, \"10\": -200.0, \"11\": -200.0, \"12\": -200.0, \"13\": -200.0, \"14\": -200.0, \"15\": -200.0, \"16\": -200.0, \"17\": -200.0, \"18\": -200.0, \"19\": -200.0, \"20\": -200.0, \"21\": -200.0, \"22\": -200.0, \"23\": -200.0, \"24\": -200.0, \"25\": -200.0, \"26\": -200.0, \"27\": -200.0, \"28\": -200.0, \"29\": -200.0, \"30\": -200.0, \"31\": -200.0, \"32\": -200.0, \"33\": -200.0, \"34\": -200.0, \"35\": -200.0, \"36\": -200.0, \"37\": -200.0, \"38\": -200.0, \"39\": -200.0, \"40\": -200.0, \"41\": -200.0, \"42\": -200.0, \"43\": -200.0, \"44\": -200.0, \"45\": -200.0, \"46\": -200.0, \"47\": -200.0, \"48\": -200.0, \"49\": -200.0, \"50\": -200.0, \"51\": -200.0, \"52\": -200.0, \"53\": -200.0, \"54\": -200.0, \"55\": -200.0, \"56\": -200.0, \"57\": -200.0, \"58\": -200.0, \"59\": -200.0, \"60\": -200.0, \"61\": -200.0, \"62\": -200.0, \"63\": -200.0, \"64\": -200.0, \"65\": -200.0, \"66\": -200.0, \"67\": -200.0, \"68\": -200.0, \"69\": -200.0, \"70\": -200.0, \"71\": -200.0, \"72\": -200.0, \"73\": -200.0, \"74\": -200.0, \"75\": -200.0, \"76\": -200.0, \"77\": -200.0, \"78\": -200.0, \"79\": -200.0, \"80\": -200.0, \"81\": -200.0, \"82\": -200.0, \"83\": -200.0, \"84\": -200.0, \"85\": -200.0, \"86\": -200.0, \"87\": -200.0, \"88\": -200.0, \"89\": -200.0, \"90\": -200.0, \"91\": -200.0, \"92\": -200.0, \"93\": -200.0, \"94\": -200.0, \"95\": -200.0, \"96\": -200.0, \"97\": -200.0, \"98\": -200.0, \"99\": -200.0}, \"episode_lengths\": {\"0\": 200, \"1\": 200, \"2\": 200, \"3\": 200, \"4\": 200, \"5\": 200, \"6\": 200, \"7\": 200, \"8\": 200, \"9\": 200, \"10\": 200, \"11\": 200, \"12\": 200, \"13\": 200, \"14\": 200, \"15\": 200, \"16\": 200, \"17\": 200, \"18\": 200, \"19\": 200, \"20\": 200, \"21\": 200, \"22\": 200, \"23\": 200, \"24\": 200, \"25\": 200, \"26\": 200, \"27\": 200, \"28\": 200, \"29\": 200, \"30\": 200, \"31\": 200, \"32\": 200, \"33\": 200, \"34\": 200, \"35\": 200, \"36\": 200, \"37\": 200, \"38\": 200, \"39\": 200, \"40\": 200, \"41\": 200, \"42\": 200, \"43\": 200, \"44\": 200, \"45\": 200, \"46\": 200, \"47\": 200, \"48\": 200, \"49\": 200, \"50\": 200, \"51\": 200, \"52\": 200, \"53\": 200, \"54\": 200, \"55\": 200, \"56\": 200, \"57\": 200, \"58\": 200, \"59\": 200, \"60\": 200, \"61\": 200, \"62\": 200, \"63\": 200, \"64\": 200, \"65\": 200, \"66\": 200, \"67\": 200, \"68\": 200, \"69\": 200, \"70\": 200, \"71\": 200, \"72\": 200, \"73\": 200, \"74\": 200, \"75\": 200, \"76\": 200, \"77\": 200, \"78\": 200, \"79\": 200, \"80\": 200, \"81\": 200, \"82\": 200, \"83\": 200, \"84\": 200, \"85\": 200, \"86\": 200, \"87\": 200, \"88\": 200, \"89\": 200, \"90\": 200, \"91\": 200, \"92\": 200, \"93\": 200, \"94\": 200, \"95\": 200, \"96\": 200, \"97\": 200, \"98\": 200, \"99\": 200}}, \"sampler_perf\": {\"mean_env_wait_ms\": 0.1432565474848852, \"mean_raw_obs_processing_ms\": 0.07167288078114332, \"mean_inference_ms\": 0.5485838633225826, \"mean_action_processing_ms\": 0.04044853477025259}, \"off_policy_estimator\": {}, \"num_healthy_workers\": 0, \"timesteps_total\": 25000, \"timers\": {\"sample_time_ms\": 184.933, \"sample_throughput\": 1081.471, \"learn_time_ms\": 2.73, \"learn_throughput\": 73266.791}, \"info\": {\"learner\": {\"default_policy\": {\"cur_lr\": 9.999999747378752e-05, \"policy_loss\": -1889.44091796875, \"policy_entropy\": 205.03306579589844, \"var_gnorm\": 23.049428939819336, \"vf_loss\": 11305.0908203125, \"model\": {}, \"grad_gnorm\": 40.0, \"vf_explained_var\": 0.0051940083503723145}}, \"num_steps_sampled\": 25000, \"num_steps_trained\": 25000}, \"done\": false, \"episodes_total\": 125, \"training_iteration\": 3, \"experiment_id\": \"80d1a2b0508644b3a989088a6dd4bf7f\", \"date\": \"2021-08-18_18-35-39\", \"timestamp\": 1629336939, \"time_this_iter_s\": 10.116687059402466, \"time_total_s\": 20.356388330459595, \"pid\": 2232298, \"hostname\": \"m87\", \"node_ip\": \"192.168.1.87\", \"time_since_restore\": 20.356388330459595, \"timesteps_since_restore\": 0, \"iterations_since_restore\": 3, \"perf\": {\"cpu_util_percent\": 18.33636363636364, \"ram_util_percent\": 42.699999999999996}}, \"type_code\": 1}}"
      ]
     },
     "execution_count": 35,
     "metadata": {},
     "output_type": "execute_result"
    },
    {
     "name": "stderr",
     "output_type": "stream",
     "text": [
      "\u001b[2m\u001b[36m(pid=2232298)\u001b[0m 2021-08-18 18:44:55,257 [Dummy-5     ] [ERROR] [base] Exception during reset or similar\n",
      "\u001b[2m\u001b[36m(pid=2232298)\u001b[0m Traceback (most recent call last):\n",
      "\u001b[2m\u001b[36m(pid=2232298)\u001b[0m   File \"/home/brandyn/anaconda3/envs/pistarlab37_7/lib/python3.7/site-packages/sqlalchemy/pool/base.py\", line 697, in _finalize_fairy\n",
      "\u001b[2m\u001b[36m(pid=2232298)\u001b[0m     fairy._reset(pool)\n",
      "\u001b[2m\u001b[36m(pid=2232298)\u001b[0m   File \"/home/brandyn/anaconda3/envs/pistarlab37_7/lib/python3.7/site-packages/sqlalchemy/pool/base.py\", line 893, in _reset\n",
      "\u001b[2m\u001b[36m(pid=2232298)\u001b[0m     pool._dialect.do_rollback(self)\n",
      "\u001b[2m\u001b[36m(pid=2232298)\u001b[0m   File \"/home/brandyn/anaconda3/envs/pistarlab37_7/lib/python3.7/site-packages/sqlalchemy/engine/default.py\", line 558, in do_rollback\n",
      "\u001b[2m\u001b[36m(pid=2232298)\u001b[0m     dbapi_connection.rollback()\n",
      "\u001b[2m\u001b[36m(pid=2232298)\u001b[0m sqlite3.ProgrammingError: SQLite objects created in a thread can only be used in that same thread. The object was created in thread id 139764191442688 and this is thread id 139770650949376.\n",
      "\u001b[2m\u001b[36m(pid=2232298)\u001b[0m 2021-08-18 18:44:55,259 [Dummy-5     ] [ERROR] [base] Exception closing connection <sqlite3.Connection object at 0x7f1d63019f10>\n",
      "\u001b[2m\u001b[36m(pid=2232298)\u001b[0m Traceback (most recent call last):\n",
      "\u001b[2m\u001b[36m(pid=2232298)\u001b[0m   File \"/home/brandyn/anaconda3/envs/pistarlab37_7/lib/python3.7/site-packages/sqlalchemy/pool/base.py\", line 697, in _finalize_fairy\n",
      "\u001b[2m\u001b[36m(pid=2232298)\u001b[0m     fairy._reset(pool)\n",
      "\u001b[2m\u001b[36m(pid=2232298)\u001b[0m   File \"/home/brandyn/anaconda3/envs/pistarlab37_7/lib/python3.7/site-packages/sqlalchemy/pool/base.py\", line 893, in _reset\n",
      "\u001b[2m\u001b[36m(pid=2232298)\u001b[0m     pool._dialect.do_rollback(self)\n",
      "\u001b[2m\u001b[36m(pid=2232298)\u001b[0m   File \"/home/brandyn/anaconda3/envs/pistarlab37_7/lib/python3.7/site-packages/sqlalchemy/engine/default.py\", line 558, in do_rollback\n",
      "\u001b[2m\u001b[36m(pid=2232298)\u001b[0m     dbapi_connection.rollback()\n",
      "\u001b[2m\u001b[36m(pid=2232298)\u001b[0m sqlite3.ProgrammingError: SQLite objects created in a thread can only be used in that same thread. The object was created in thread id 139764191442688 and this is thread id 139770650949376.\n",
      "\u001b[2m\u001b[36m(pid=2232298)\u001b[0m \n",
      "\u001b[2m\u001b[36m(pid=2232298)\u001b[0m During handling of the above exception, another exception occurred:\n",
      "\u001b[2m\u001b[36m(pid=2232298)\u001b[0m \n",
      "\u001b[2m\u001b[36m(pid=2232298)\u001b[0m Traceback (most recent call last):\n",
      "\u001b[2m\u001b[36m(pid=2232298)\u001b[0m   File \"/home/brandyn/anaconda3/envs/pistarlab37_7/lib/python3.7/site-packages/sqlalchemy/pool/base.py\", line 270, in _close_connection\n",
      "\u001b[2m\u001b[36m(pid=2232298)\u001b[0m     self._dialect.do_close(connection)\n",
      "\u001b[2m\u001b[36m(pid=2232298)\u001b[0m   File \"/home/brandyn/anaconda3/envs/pistarlab37_7/lib/python3.7/site-packages/sqlalchemy/engine/default.py\", line 564, in do_close\n",
      "\u001b[2m\u001b[36m(pid=2232298)\u001b[0m     dbapi_connection.close()\n",
      "\u001b[2m\u001b[36m(pid=2232298)\u001b[0m sqlite3.ProgrammingError: SQLite objects created in a thread can only be used in that same thread. The object was created in thread id 139764191442688 and this is thread id 139770650949376.\n"
     ]
    }
   ],
   "source": [
    "ctx.get_session(\"S-149\").__dict__"
   ]
  },
  {
   "cell_type": "markdown",
   "metadata": {},
   "source": [
    "# Shutdown piSTAR Lab"
   ]
  },
  {
   "cell_type": "code",
   "execution_count": 31,
   "metadata": {},
   "outputs": [
    {
     "name": "stderr",
     "output_type": "stream",
     "text": [
      "2021-08-18 18:31:51,132 [Thread-8    ] [INFO ] [services] 2211622:signal-handler (1629336711) Received SIGTERM scheduling shutdown...\n",
      "2021-08-18 18:31:51,157 [Thread-8    ] [INFO ] [services] 2211622:M 18 Aug 2021 18:31:51.157 # User requested shutdown...\n",
      "2021-08-18 18:31:51,159 [Thread-8    ] [INFO ] [services] 2211622:M 18 Aug 2021 18:31:51.157 # Redis is now ready to exit, bye bye...\n",
      "2021-08-18 18:31:51,168 [ray_import_t] [ERROR] [import_thread] ImportThread: Connection closed by server.\n",
      "2021-08-18 18:31:51,169 [ray_print_lo] [ERROR] [worker] print_logs: Connection closed by server.\n",
      "2021-08-18 18:31:51,170 [ray_listen_e] [ERROR] [worker] listen_error_messages_raylet: Connection closed by server.\n"
     ]
    }
   ],
   "source": [
    "# Run following to shutdown\n",
    "# ctx.stop_minimal_mode()"
   ]
  },
  {
   "cell_type": "code",
   "execution_count": null,
   "metadata": {},
   "outputs": [],
   "source": []
  }
 ],
 "metadata": {
  "kernelspec": {
   "display_name": "Python [conda env:pistarlab37_7]",
   "language": "python",
   "name": "conda-env-pistarlab37_7-py"
  },
  "language_info": {
   "codemirror_mode": {
    "name": "ipython",
    "version": 3
   },
   "file_extension": ".py",
   "mimetype": "text/x-python",
   "name": "python",
   "nbconvert_exporter": "python",
   "pygments_lexer": "ipython3",
   "version": "3.7.7"
  }
 },
 "nbformat": 4,
 "nbformat_minor": 4
}
