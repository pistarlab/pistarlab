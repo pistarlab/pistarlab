{
 "cells": [
  {
   "cell_type": "code",
   "execution_count": 2,
   "metadata": {
    "tags": []
   },
   "outputs": [
    {
     "name": "stdout",
     "output_type": "stream",
     "text": [
      "The autoreload extension is already loaded. To reload it, use:\n",
      "  %reload_ext autoreload\n"
     ]
    }
   ],
   "source": [
    "%load_ext autoreload\n",
    "%autoreload 2\n",
    "%matplotlib inline"
   ]
  },
  {
   "cell_type": "code",
   "execution_count": 3,
   "metadata": {},
   "outputs": [],
   "source": [
    "from pistarlab import ctx"
   ]
  },
  {
   "cell_type": "code",
   "execution_count": 5,
   "metadata": {},
   "outputs": [
    {
     "data": {
      "text/plain": [
       "['pistarlab_tests',\n",
       " 'gym_atari',\n",
       " 'gym_classic_and_box2d',\n",
       " 'gym_test_and_text',\n",
       " 'landia',\n",
       " 'petting_zoo',\n",
       " 'minigrid']"
      ]
     },
     "execution_count": 5,
     "metadata": {},
     "output_type": "execute_result"
    }
   ],
   "source": [
    "ctx.list_environment_ids()"
   ]
  },
  {
   "cell_type": "code",
   "execution_count": 6,
   "metadata": {},
   "outputs": [],
   "source": [
    "env  = ctx.get_env_spec_instance('MountainCar-v0')"
   ]
  },
  {
   "cell_type": "code",
   "execution_count": 7,
   "metadata": {},
   "outputs": [
    {
     "data": {
      "text/plain": [
       "['test_multiplayer_parallel',\n",
       " 'Adventure-v0',\n",
       " 'Adventure-v4',\n",
       " 'AdventureDeterministic-v0',\n",
       " 'AdventureDeterministic-v4',\n",
       " 'AdventureNoFrameskip-v0',\n",
       " 'AdventureNoFrameskip-v4',\n",
       " 'Adventure-ram-v0',\n",
       " 'Adventure-ram-v4',\n",
       " 'Adventure-ramDeterministic-v0',\n",
       " 'Adventure-ramDeterministic-v4',\n",
       " 'Adventure-ramNoFrameskip-v0',\n",
       " 'CartPole-v0',\n",
       " 'CartPole-v1',\n",
       " 'MountainCar-v0',\n",
       " 'MountainCarContinuous-v0',\n",
       " 'Pendulum-v0',\n",
       " 'Acrobot-v1',\n",
       " 'LunarLander-v2',\n",
       " 'LunarLanderContinuous-v2',\n",
       " 'BipedalWalker-v3',\n",
       " 'BipedalWalkerHardcore-v3',\n",
       " 'CarRacing-v0',\n",
       " 'Blackjack-v0',\n",
       " 'KellyCoinflip-v0',\n",
       " 'KellyCoinflipGeneralized-v0',\n",
       " 'FrozenLake-v0',\n",
       " 'FrozenLake8x8-v0',\n",
       " 'CliffWalking-v0',\n",
       " 'NChain-v0',\n",
       " 'Roulette-v0',\n",
       " 'Taxi-v3',\n",
       " 'GuessingGame-v0',\n",
       " 'HotterColder-v0',\n",
       " 'CubeCrash-v0',\n",
       " 'CubeCrashSparse-v0',\n",
       " 'CubeCrashScreenBecomesBlack-v0',\n",
       " 'MemorizeDigits-v0',\n",
       " 'landia_food_collector',\n",
       " 'landia_infection',\n",
       " 'landia_tag',\n",
       " 'pettingzoo.classic.chess_v2',\n",
       " 'pettingzoo.butterfly.cooperative_pong_v2',\n",
       " 'pettingzoo.butterfly.prison_v2',\n",
       " 'pettingzoo.sisl.multiwalker_v6',\n",
       " 'MiniGrid-Empty-5x5-v0',\n",
       " 'MiniGrid-Empty-Random-5x5-v0',\n",
       " 'MiniGrid-Empty-6x6-v0',\n",
       " 'MiniGrid-Empty-Random-6x6-v0',\n",
       " 'MiniGrid-Empty-8x8-v0',\n",
       " 'MiniGrid-Empty-16x16-v0',\n",
       " 'MiniGrid-DoorKey-5x5-v0',\n",
       " 'MiniGrid-DoorKey-6x6-v0',\n",
       " 'MiniGrid-DoorKey-8x8-v0',\n",
       " 'MiniGrid-DoorKey-16x16-v0',\n",
       " 'MiniGrid-MultiRoom-N2-S4-v0',\n",
       " 'MiniGrid-MultiRoom-N4-S5-v0',\n",
       " 'MiniGrid-MultiRoom-N6-v0',\n",
       " 'MiniGrid-Fetch-5x5-N2-v0',\n",
       " 'MiniGrid-Fetch-6x6-N2-v0',\n",
       " 'MiniGrid-Fetch-8x8-N3-v0',\n",
       " 'MiniGrid-GoToObject-6x6-N2-v0',\n",
       " 'MiniGrid-GoToObject-8x8-N2-v0',\n",
       " 'MiniGrid-GoToDoor-5x5-v0',\n",
       " 'MiniGrid-GoToDoor-6x6-v0',\n",
       " 'MiniGrid-GoToDoor-8x8-v0',\n",
       " 'MiniGrid-PutNear-6x6-N2-v0',\n",
       " 'MiniGrid-PutNear-8x8-N3-v0',\n",
       " 'MiniGrid-LockedRoom-v0',\n",
       " 'MiniGrid-KeyCorridorS3R1-v0',\n",
       " 'MiniGrid-KeyCorridorS3R2-v0',\n",
       " 'MiniGrid-KeyCorridorS3R3-v0',\n",
       " 'MiniGrid-KeyCorridorS4R3-v0',\n",
       " 'MiniGrid-KeyCorridorS5R3-v0',\n",
       " 'MiniGrid-KeyCorridorS6R3-v0',\n",
       " 'MiniGrid-Unlock-v0',\n",
       " 'MiniGrid-UnlockPickup-v0',\n",
       " 'MiniGrid-BlockedUnlockPickup-v0',\n",
       " 'MiniGrid-Playground-v0',\n",
       " 'MiniGrid-RedBlueDoors-6x6-v0',\n",
       " 'MiniGrid-RedBlueDoors-8x8-v0',\n",
       " 'MiniGrid-ObstructedMaze-1Dl-v0',\n",
       " 'MiniGrid-ObstructedMaze-1Dlh-v0',\n",
       " 'MiniGrid-ObstructedMaze-1Dlhb-v0',\n",
       " 'MiniGrid-ObstructedMaze-2Dl-v0',\n",
       " 'MiniGrid-ObstructedMaze-2Dlh-v0',\n",
       " 'MiniGrid-ObstructedMaze-2Dlhb-v0',\n",
       " 'MiniGrid-ObstructedMaze-1Q-v0',\n",
       " 'MiniGrid-ObstructedMaze-2Q-v0',\n",
       " 'MiniGrid-ObstructedMaze-Full-v0',\n",
       " 'MiniGrid-MemoryS17Random-v0',\n",
       " 'MiniGrid-MemoryS13Random-v0',\n",
       " 'MiniGrid-MemoryS13-v0',\n",
       " 'MiniGrid-MemoryS11-v0',\n",
       " 'MiniGrid-MemoryS9-v0',\n",
       " 'MiniGrid-MemoryS7-v0',\n",
       " 'MiniGrid-FourRooms-v0',\n",
       " 'MiniGrid-LavaCrossingS9N1-v0',\n",
       " 'MiniGrid-LavaCrossingS9N2-v0',\n",
       " 'MiniGrid-LavaCrossingS9N3-v0',\n",
       " 'MiniGrid-LavaCrossingS11N5-v0',\n",
       " 'MiniGrid-SimpleCrossingS9N1-v0',\n",
       " 'MiniGrid-SimpleCrossingS9N2-v0',\n",
       " 'MiniGrid-SimpleCrossingS9N3-v0',\n",
       " 'MiniGrid-SimpleCrossingS11N5-v0',\n",
       " 'MiniGrid-LavaGapS5-v0',\n",
       " 'MiniGrid-LavaGapS6-v0',\n",
       " 'MiniGrid-LavaGapS7-v0',\n",
       " 'MiniGrid-Dynamic-Obstacles-5x5-v0',\n",
       " 'MiniGrid-Dynamic-Obstacles-Random-5x5-v0',\n",
       " 'MiniGrid-Dynamic-Obstacles-6x6-v0',\n",
       " 'MiniGrid-Dynamic-Obstacles-Random-6x6-v0',\n",
       " 'MiniGrid-Dynamic-Obstacles-8x8-v0',\n",
       " 'MiniGrid-Dynamic-Obstacles-16x16-v0',\n",
       " 'MiniGrid-DistShift1-v0',\n",
       " 'MiniGrid-DistShift2-v0']"
      ]
     },
     "execution_count": 7,
     "metadata": {},
     "output_type": "execute_result"
    }
   ],
   "source": [
    "ctx.list_env_spec_ids()"
   ]
  },
  {
   "cell_type": "code",
   "execution_count": 12,
   "metadata": {},
   "outputs": [
    {
     "name": "stdout",
     "output_type": "stream",
     "text": [
      "(2,)\n"
     ]
    },
    {
     "ename": "NameError",
     "evalue": "name 'base' is not defined",
     "output_type": "error",
     "traceback": [
      "\u001b[0;31m---------------------------------------------------------------------------\u001b[0m",
      "\u001b[0;31mNameError\u001b[0m                                 Traceback (most recent call last)",
      "\u001b[0;32m/tmp/ipykernel_2100526/1481793334.py\u001b[0m in \u001b[0;36m<module>\u001b[0;34m\u001b[0m\n\u001b[1;32m      4\u001b[0m \u001b[0;34m\u001b[0m\u001b[0m\n\u001b[1;32m      5\u001b[0m \u001b[0;34m\u001b[0m\u001b[0m\n\u001b[0;32m----> 6\u001b[0;31m \u001b[0mrendered_ob\u001b[0m \u001b[0;34m=\u001b[0m \u001b[0menv\u001b[0m\u001b[0;34m.\u001b[0m\u001b[0mrender\u001b[0m\u001b[0;34m(\u001b[0m\u001b[0mmode\u001b[0m\u001b[0;34m=\u001b[0m\u001b[0;34m\"rgb_array\"\u001b[0m\u001b[0;34m)\u001b[0m\u001b[0;34m\u001b[0m\u001b[0;34m\u001b[0m\u001b[0m\n\u001b[0m\u001b[1;32m      7\u001b[0m \u001b[0;32mfrom\u001b[0m \u001b[0mmatplotlib\u001b[0m\u001b[0;34m.\u001b[0m\u001b[0mpyplot\u001b[0m \u001b[0;32mimport\u001b[0m \u001b[0mimshow\u001b[0m\u001b[0;34m\u001b[0m\u001b[0;34m\u001b[0m\u001b[0m\n\u001b[1;32m      8\u001b[0m \u001b[0mimshow\u001b[0m\u001b[0;34m(\u001b[0m\u001b[0mrendered_ob\u001b[0m\u001b[0;34m)\u001b[0m\u001b[0;34m\u001b[0m\u001b[0;34m\u001b[0m\u001b[0m\n",
      "\u001b[0;32m~/anaconda3/envs/pistarlab37_7/lib/python3.7/site-packages/gym/core.py\u001b[0m in \u001b[0;36mrender\u001b[0;34m(self, mode, **kwargs)\u001b[0m\n\u001b[1;32m    238\u001b[0m \u001b[0;34m\u001b[0m\u001b[0m\n\u001b[1;32m    239\u001b[0m     \u001b[0;32mdef\u001b[0m \u001b[0mrender\u001b[0m\u001b[0;34m(\u001b[0m\u001b[0mself\u001b[0m\u001b[0;34m,\u001b[0m \u001b[0mmode\u001b[0m\u001b[0;34m=\u001b[0m\u001b[0;34m'human'\u001b[0m\u001b[0;34m,\u001b[0m \u001b[0;34m**\u001b[0m\u001b[0mkwargs\u001b[0m\u001b[0;34m)\u001b[0m\u001b[0;34m:\u001b[0m\u001b[0;34m\u001b[0m\u001b[0;34m\u001b[0m\u001b[0m\n\u001b[0;32m--> 240\u001b[0;31m         \u001b[0;32mreturn\u001b[0m \u001b[0mself\u001b[0m\u001b[0;34m.\u001b[0m\u001b[0menv\u001b[0m\u001b[0;34m.\u001b[0m\u001b[0mrender\u001b[0m\u001b[0;34m(\u001b[0m\u001b[0mmode\u001b[0m\u001b[0;34m,\u001b[0m \u001b[0;34m**\u001b[0m\u001b[0mkwargs\u001b[0m\u001b[0;34m)\u001b[0m\u001b[0;34m\u001b[0m\u001b[0;34m\u001b[0m\u001b[0m\n\u001b[0m\u001b[1;32m    241\u001b[0m \u001b[0;34m\u001b[0m\u001b[0m\n\u001b[1;32m    242\u001b[0m     \u001b[0;32mdef\u001b[0m \u001b[0mclose\u001b[0m\u001b[0;34m(\u001b[0m\u001b[0mself\u001b[0m\u001b[0;34m)\u001b[0m\u001b[0;34m:\u001b[0m\u001b[0;34m\u001b[0m\u001b[0;34m\u001b[0m\u001b[0m\n",
      "\u001b[0;32m~/anaconda3/envs/pistarlab37_7/lib/python3.7/site-packages/gym/envs/classic_control/mountain_car.py\u001b[0m in \u001b[0;36mrender\u001b[0;34m(self, mode)\u001b[0m\n\u001b[1;32m    124\u001b[0m \u001b[0;34m\u001b[0m\u001b[0m\n\u001b[1;32m    125\u001b[0m         \u001b[0;32mif\u001b[0m \u001b[0mself\u001b[0m\u001b[0;34m.\u001b[0m\u001b[0mviewer\u001b[0m \u001b[0;32mis\u001b[0m \u001b[0;32mNone\u001b[0m\u001b[0;34m:\u001b[0m\u001b[0;34m\u001b[0m\u001b[0;34m\u001b[0m\u001b[0m\n\u001b[0;32m--> 126\u001b[0;31m             \u001b[0;32mfrom\u001b[0m \u001b[0mgym\u001b[0m\u001b[0;34m.\u001b[0m\u001b[0menvs\u001b[0m\u001b[0;34m.\u001b[0m\u001b[0mclassic_control\u001b[0m \u001b[0;32mimport\u001b[0m \u001b[0mrendering\u001b[0m\u001b[0;34m\u001b[0m\u001b[0;34m\u001b[0m\u001b[0m\n\u001b[0m\u001b[1;32m    127\u001b[0m             \u001b[0mself\u001b[0m\u001b[0;34m.\u001b[0m\u001b[0mviewer\u001b[0m \u001b[0;34m=\u001b[0m \u001b[0mrendering\u001b[0m\u001b[0;34m.\u001b[0m\u001b[0mViewer\u001b[0m\u001b[0;34m(\u001b[0m\u001b[0mscreen_width\u001b[0m\u001b[0;34m,\u001b[0m \u001b[0mscreen_height\u001b[0m\u001b[0;34m)\u001b[0m\u001b[0;34m\u001b[0m\u001b[0;34m\u001b[0m\u001b[0m\n\u001b[1;32m    128\u001b[0m             \u001b[0mxs\u001b[0m \u001b[0;34m=\u001b[0m \u001b[0mnp\u001b[0m\u001b[0;34m.\u001b[0m\u001b[0mlinspace\u001b[0m\u001b[0;34m(\u001b[0m\u001b[0mself\u001b[0m\u001b[0;34m.\u001b[0m\u001b[0mmin_position\u001b[0m\u001b[0;34m,\u001b[0m \u001b[0mself\u001b[0m\u001b[0;34m.\u001b[0m\u001b[0mmax_position\u001b[0m\u001b[0;34m,\u001b[0m \u001b[0;36m100\u001b[0m\u001b[0;34m)\u001b[0m\u001b[0;34m\u001b[0m\u001b[0;34m\u001b[0m\u001b[0m\n",
      "\u001b[0;32m~/anaconda3/envs/pistarlab37_7/lib/python3.7/site-packages/gym/envs/classic_control/rendering.py\u001b[0m in \u001b[0;36m<module>\u001b[0;34m\u001b[0m\n\u001b[1;32m     23\u001b[0m \u001b[0;34m\u001b[0m\u001b[0m\n\u001b[1;32m     24\u001b[0m \u001b[0;32mtry\u001b[0m\u001b[0;34m:\u001b[0m\u001b[0;34m\u001b[0m\u001b[0;34m\u001b[0m\u001b[0m\n\u001b[0;32m---> 25\u001b[0;31m     \u001b[0;32mfrom\u001b[0m \u001b[0mpyglet\u001b[0m\u001b[0;34m.\u001b[0m\u001b[0mgl\u001b[0m \u001b[0;32mimport\u001b[0m \u001b[0;34m*\u001b[0m\u001b[0;34m\u001b[0m\u001b[0;34m\u001b[0m\u001b[0m\n\u001b[0m\u001b[1;32m     26\u001b[0m \u001b[0;32mexcept\u001b[0m \u001b[0mImportError\u001b[0m \u001b[0;32mas\u001b[0m \u001b[0me\u001b[0m\u001b[0;34m:\u001b[0m\u001b[0;34m\u001b[0m\u001b[0;34m\u001b[0m\u001b[0m\n\u001b[1;32m     27\u001b[0m     raise ImportError('''\n",
      "\u001b[0;32m~/anaconda3/envs/pistarlab37_7/lib/python3.7/site-packages/pyglet/gl/__init__.py\u001b[0m in \u001b[0;36m<module>\u001b[0;34m\u001b[0m\n\u001b[1;32m    233\u001b[0m \u001b[0;32melif\u001b[0m \u001b[0mcompat_platform\u001b[0m \u001b[0;34m==\u001b[0m \u001b[0;34m'darwin'\u001b[0m\u001b[0;34m:\u001b[0m\u001b[0;34m\u001b[0m\u001b[0;34m\u001b[0m\u001b[0m\n\u001b[1;32m    234\u001b[0m     \u001b[0;32mfrom\u001b[0m \u001b[0;34m.\u001b[0m\u001b[0mcocoa\u001b[0m \u001b[0;32mimport\u001b[0m \u001b[0mCocoaConfig\u001b[0m \u001b[0;32mas\u001b[0m \u001b[0mConfig\u001b[0m\u001b[0;34m\u001b[0m\u001b[0;34m\u001b[0m\u001b[0m\n\u001b[0;32m--> 235\u001b[0;31m \u001b[0;32mdel\u001b[0m \u001b[0mbase\u001b[0m  \u001b[0;31m# noqa: F821\u001b[0m\u001b[0;34m\u001b[0m\u001b[0;34m\u001b[0m\u001b[0m\n\u001b[0m\u001b[1;32m    236\u001b[0m \u001b[0;34m\u001b[0m\u001b[0m\n\u001b[1;32m    237\u001b[0m \u001b[0;34m\u001b[0m\u001b[0m\n",
      "\u001b[0;31mNameError\u001b[0m: name 'base' is not defined"
     ]
    }
   ],
   "source": [
    "env  = ctx.get_env_spec_instance('MountainCar-v0')\n",
    "ob  = env.reset()\n",
    "print(ob.shape)\n",
    "\n",
    "rendered_ob = env.render(mode=\"rgb_array\")\n",
    "from matplotlib.pyplot import imshow\n",
    "imshow(rendered_ob)"
   ]
  },
  {
   "cell_type": "code",
   "execution_count": 7,
   "metadata": {},
   "outputs": [
    {
     "data": {
      "text/plain": [
       "['RandomAgent',\n",
       " 'defaults_a2c',\n",
       " 'rllib_RANDOM',\n",
       " 'rllib_PPO',\n",
       " 'rllib_A3C',\n",
       " 'rllib_A2C',\n",
       " 'rllib_A2C_torch',\n",
       " 'rllib_SAC_torch',\n",
       " 'rllib_A2C_torch_v2',\n",
       " 'stable_baselines_A2C',\n",
       " 'stable_baselines_DDPG',\n",
       " 'stable_baselines_DQN',\n",
       " 'stable_baselines_HER',\n",
       " 'stable_baselines_PPO',\n",
       " 'stable_baselines_TD3',\n",
       " 'stable_baselines_SAC']"
      ]
     },
     "execution_count": 7,
     "metadata": {},
     "output_type": "execute_result"
    }
   ],
   "source": [
    "ctx.list_agent_specs()"
   ]
  },
  {
   "cell_type": "code",
   "execution_count": 11,
   "metadata": {},
   "outputs": [
    {
     "data": {
      "text/plain": [
       "['A-1',\n",
       " 'A-2',\n",
       " 'A-3',\n",
       " 'A-4',\n",
       " 'A-5',\n",
       " 'A-6',\n",
       " 'A-7',\n",
       " 'A-8',\n",
       " 'A-9',\n",
       " 'A-10',\n",
       " 'A-11',\n",
       " 'A-12',\n",
       " 'A-13',\n",
       " 'A-29',\n",
       " 'A-30']"
      ]
     },
     "execution_count": 11,
     "metadata": {},
     "output_type": "execute_result"
    }
   ],
   "source": [
    "ctx.list_agents()"
   ]
  },
  {
   "cell_type": "code",
   "execution_count": 19,
   "metadata": {},
   "outputs": [
    {
     "data": {
      "text/plain": [
       "[]"
      ]
     },
     "execution_count": 19,
     "metadata": {},
     "output_type": "execute_result"
    }
   ],
   "source": [
    "ctx.list_sessions_detailed(status_filter=[\"RUNNING\"])"
   ]
  },
  {
   "cell_type": "code",
   "execution_count": 20,
   "metadata": {},
   "outputs": [
    {
     "name": "stderr",
     "output_type": "stream",
     "text": [
      "2021-08-18 13:31:07,214 [MainThread  ] [INFO ] [extension_manager] Loading Additional Extension Source main\n",
      "2021-08-18 13:31:07,215 [MainThread  ] [INFO ] [extension_manager] Reading from/home/brandyn/pistarlab/workspace\n",
      "2021-08-18 13:31:07,218 [MainThread  ] [ERROR] [extension_manager] Error loading extension pistarlab_multigrid [Errno 2] No such file or directory: '/home/brandyn/Dev/workspace_playground/pistarlab-repo/src/pistarlab-multigrid/pistarlab_multigrid/pistarlab_extension.json'\n",
      "2021-08-18 13:31:07,349 [MainThread  ] [INFO ] [extension_manager] Reading from/home/brandyn/Dev/workspace_playground/pistarlab-repo/src/\n",
      "2021-08-18 13:31:07,351 [MainThread  ] [ERROR] [extension_manager] Error loading extension pistarlab_multigrid [Errno 2] No such file or directory: '/home/brandyn/Dev/workspace_playground/pistarlab-repo/src/pistarlab-multigrid/pistarlab_multigrid/pistarlab_extension.json'\n",
      "2021-08-18 13:31:07,352 [MainThread  ] [ERROR] [extension_manager] Error loading extension pistarlab_envs_minecraft [Errno 2] No such file or directory: '/home/brandyn/Dev/workspace_playground/pistarlab-repo/src/pistarlab-envs-minecraft/pistarlab_envs_minecraft/pistarlab_extension.json'\n",
      "2021-08-18 13:31:07,353 [MainThread  ] [ERROR] [extension_manager] Error loading extension pistarlab_envs_gym_minigrid [Errno 2] No such file or directory: '/home/brandyn/Dev/workspace_playground/pistarlab/pistarlab/extensions/pistarlab-envs-gym-minigrid/pistarlab_envs_gym_minigrid/pistarlab_extension.json'\n"
     ]
    },
    {
     "data": {
      "text/plain": [
       "[('pistarlab-defaults', '0.0.1-dev'),\n",
       " ('pistarlab-rllib', '0.0.1-dev'),\n",
       " ('pistarlab-envs-gym-atari', '0.0.1-dev'),\n",
       " ('pistarlab-envs-gym-main', '0.0.1-dev'),\n",
       " ('pistarlab-envs-gym-text', '0.0.1-dev'),\n",
       " ('pistarlab-envs-gym-minigrid', '0.0.1-dev'),\n",
       " ('pistarlab-test-data-agents', '0.0.1-dev'),\n",
       " ('pistarlab-test', '0.0.1-dev'),\n",
       " ('pistarlab-common-data-envs', '0.0.1-dev'),\n",
       " ('pistarlab-landia', '0.0.1-dev'),\n",
       " ('pistarlab-stable-baselines', '0.0.1-dev'),\n",
       " ('pistarlab-petting-zoo', '0.0.1-dev'),\n",
       " ('pistarlab-multigrid', '0.0.1-dev')]"
      ]
     },
     "execution_count": 20,
     "metadata": {},
     "output_type": "execute_result"
    }
   ],
   "source": [
    "ctx.list_extensions()"
   ]
  },
  {
   "cell_type": "code",
   "execution_count": null,
   "metadata": {},
   "outputs": [],
   "source": []
  },
  {
   "cell_type": "code",
   "execution_count": 6,
   "metadata": {},
   "outputs": [],
   "source": [
    "from pistarlab.task import AgentTask"
   ]
  },
  {
   "cell_type": "code",
   "execution_count": 30,
   "metadata": {},
   "outputs": [
    {
     "name": "stderr",
     "output_type": "stream",
     "text": [
      "[autoreload of pistarlab_common_data_envs.plugin failed: Traceback (most recent call last):\n",
      "  File \"/home/brandyn/anaconda3/envs/pistarlab/lib/python3.7/site-packages/IPython/extensions/autoreload.py\", line 245, in check\n",
      "    superreload(m, reload, self.old_objects)\n",
      "  File \"/home/brandyn/anaconda3/envs/pistarlab/lib/python3.7/site-packages/IPython/extensions/autoreload.py\", line 410, in superreload\n",
      "    update_generic(old_obj, new_obj)\n",
      "  File \"/home/brandyn/anaconda3/envs/pistarlab/lib/python3.7/site-packages/IPython/extensions/autoreload.py\", line 347, in update_generic\n",
      "    update(a, b)\n",
      "  File \"/home/brandyn/anaconda3/envs/pistarlab/lib/python3.7/site-packages/IPython/extensions/autoreload.py\", line 302, in update_class\n",
      "    if update_generic(old_obj, new_obj): continue\n",
      "  File \"/home/brandyn/anaconda3/envs/pistarlab/lib/python3.7/site-packages/IPython/extensions/autoreload.py\", line 347, in update_generic\n",
      "    update(a, b)\n",
      "  File \"/home/brandyn/anaconda3/envs/pistarlab/lib/python3.7/site-packages/IPython/extensions/autoreload.py\", line 266, in update_function\n",
      "    setattr(old, name, getattr(new, name))\n",
      "ValueError: __init__() requires a code object with 0 free vars, not 1\n",
      "]\n"
     ]
    }
   ],
   "source": [
    "t = AgentTask.load(\"T-62\")"
   ]
  }
 ],
 "metadata": {
  "kernelspec": {
   "display_name": "pistarlab37",
   "language": "python",
   "name": "pistarlab37"
  },
  "language_info": {
   "codemirror_mode": {
    "name": "ipython",
    "version": 3
   },
   "file_extension": ".py",
   "mimetype": "text/x-python",
   "name": "python",
   "nbconvert_exporter": "python",
   "pygments_lexer": "ipython3",
   "version": "3.7.7"
  }
 },
 "nbformat": 4,
 "nbformat_minor": 4
}
