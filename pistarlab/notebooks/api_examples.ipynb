{
 "cells": [
  {
   "cell_type": "code",
   "execution_count": 8,
   "metadata": {},
   "outputs": [
    {
     "name": "stdout",
     "output_type": "stream",
     "text": [
      "The autoreload extension is already loaded. To reload it, use:\n",
      "  %reload_ext autoreload\n"
     ]
    },
    {
     "data": {
      "text/html": [
       "<style>.container { width:100% !important; }</style>"
      ],
      "text/plain": [
       "<IPython.core.display.HTML object>"
      ]
     },
     "metadata": {},
     "output_type": "display_data"
    }
   ],
   "source": [
    "import sys\n",
    "sys.path.append(\"../\")\n",
    "%load_ext autoreload\n",
    "%autoreload 2\n",
    "%matplotlib inline\n",
    "import pprint\n",
    "from IPython.core.display import display, HTML\n",
    "display(HTML(\"<style>.container { width:100% !important; }</style>\"))"
   ]
  },
  {
   "cell_type": "code",
   "execution_count": 2,
   "metadata": {},
   "outputs": [],
   "source": [
    "from pistarlab import ctx"
   ]
  },
  {
   "cell_type": "code",
   "execution_count": 3,
   "metadata": {},
   "outputs": [
    {
     "name": "stderr",
     "output_type": "stream",
     "text": [
      "DEBUG:root:Initializing Context\n",
      "INFO:root:Already running.\n",
      "2021-08-15 17:28:43,130 [MainThread  ] [INFO ] [snapshot_helpers] Loading snapshots /home/brandyn/pistarlab/snapshot_repo\n",
      "2021-08-15 17:28:43,134 [MainThread  ] [INFO ] [core] Backend is Ready\n"
     ]
    }
   ],
   "source": [
    "ctx.initialize()"
   ]
  },
  {
   "cell_type": "code",
   "execution_count": 6,
   "metadata": {},
   "outputs": [
    {
     "data": {
      "text/plain": [
       "['multiplayer_test_parallel']"
      ]
     },
     "execution_count": 6,
     "metadata": {},
     "output_type": "execute_result"
    }
   ],
   "source": [
    "ctx.list_environments()"
   ]
  },
  {
   "cell_type": "code",
   "execution_count": 12,
   "metadata": {},
   "outputs": [
    {
     "name": "stdout",
     "output_type": "stream",
     "text": [
      "{'_sa_instance_state': <sqlalchemy.orm.state.InstanceState object at 0x7ffb0b7558d0>,\n",
      " 'categories': '',\n",
      " 'created': datetime.datetime(2021, 8, 16, 0, 15, 32),\n",
      " 'default_config': {'default_render_mode': None,\n",
      "                    'default_wrappers': [],\n",
      "                    'env_kwargs': {}},\n",
      " 'default_entry_point': 'pistarlab.envs.ma_test_envs:MultiAgentTestParallelEnv',\n",
      " 'default_meta': {'action_spaces': {'player_0': {'args': [],\n",
      "                                                 'class_name': 'Box',\n",
      "                                                 'kwargs': {'high': 20.0,\n",
      "                                                            'low': 0.0,\n",
      "                                                            'shape': {'__type': 'tuple',\n",
      "                                                                      'values': [10]}},\n",
      "                                                 'module': 'gym.spaces.box'},\n",
      "                                    'player_1': {'args': [],\n",
      "                                                 'class_name': 'Box',\n",
      "                                                 'kwargs': {'high': 20.0,\n",
      "                                                            'low': 0.0,\n",
      "                                                            'shape': {'__type': 'tuple',\n",
      "                                                                      'values': [10]}},\n",
      "                                                 'module': 'gym.spaces.box'}},\n",
      "                  'image_filename': None,\n",
      "                  'max_num_players': 2,\n",
      "                  'num_players': 2,\n",
      "                  'observation_spaces': {'player_0': {'args': [],\n",
      "                                                      'class_name': 'Box',\n",
      "                                                      'kwargs': {'high': 20.0,\n",
      "                                                                 'low': 0.0,\n",
      "                                                                 'shape': {'__type': 'tuple',\n",
      "                                                                           'values': [20,\n",
      "                                                                                      20]}},\n",
      "                                                      'module': 'gym.spaces.box'},\n",
      "                                         'player_1': {'args': [],\n",
      "                                                      'class_name': 'Box',\n",
      "                                                      'kwargs': {'high': 20.0,\n",
      "                                                                 'low': 0.0,\n",
      "                                                                 'shape': {'__type': 'tuple',\n",
      "                                                                           'values': [20,\n",
      "                                                                                      20]}},\n",
      "                                                      'module': 'gym.spaces.box'}},\n",
      "                  'players': ['player_0', 'player_1'],\n",
      "                  'possible_players': ['player_0', 'player_1'],\n",
      "                  'render.fps': 30,\n",
      "                  'render.modes': [],\n",
      "                  'render_mode': None,\n",
      "                  'render_stats': False},\n",
      " 'description': None,\n",
      " 'disabled': False,\n",
      " 'displayed_name': 'Test Environments',\n",
      " 'env_specs': [{\"config\": {\"default_render_mode\": null, \"env_kwargs\": {}, \"default_wrappers\": []}, \"created\": null, \"description\": null, \"displayed_name\": \"Test Environment: Multi-Agent Parallel\", \"entry_point\": \"pistarlab.envs.ma_test_envs:MultiAgentTestParallelEnv\", \"env_type\": \"RL_MULTIPLAYER_ENV\", \"environment\": null, \"environment_id\": \"multiplayer_test_parallel\", \"id\": \"multiplayer_test_parallel\", \"meta\": {\"image_filename\": null, \"render.modes\": [], \"render.fps\": 30, \"render_mode\": null, \"render_stats\": false, \"observation_spaces\": {\"player_0\": {\"class_name\": \"Box\", \"module\": \"gym.spaces.box\", \"kwargs\": {\"shape\": {\"__type\": \"tuple\", \"values\": [20, 20]}, \"low\": 0.0, \"high\": 20.0}, \"args\": []}, \"player_1\": {\"class_name\": \"Box\", \"module\": \"gym.spaces.box\", \"kwargs\": {\"shape\": {\"__type\": \"tuple\", \"values\": [20, 20]}, \"low\": 0.0, \"high\": 20.0}, \"args\": []}}, \"action_spaces\": {\"player_0\": {\"class_name\": \"Box\", \"module\": \"gym.spaces.box\", \"kwargs\": {\"shape\": {\"__type\": \"tuple\", \"values\": [10]}, \"low\": 0.0, \"high\": 20.0}, \"args\": []}, \"player_1\": {\"class_name\": \"Box\", \"module\": \"gym.spaces.box\", \"kwargs\": {\"shape\": {\"__type\": \"tuple\", \"values\": [10]}, \"low\": 0.0, \"high\": 20.0}, \"args\": []}}, \"num_players\": 2, \"max_num_players\": 2, \"players\": [\"player_0\", \"player_1\"], \"possible_players\": [\"player_0\", \"player_1\"]}, \"params\": {}, \"sessions\": [], \"spec_displayed_name\": \"Parallel\", \"tags\": \"\", \"user_defined\": false}],\n",
      " 'extension_id': 'builtin',\n",
      " 'extension_version': '0.0.1-dev',\n",
      " 'id': 'multiplayer_test_parallel',\n",
      " 'version': '0.0.1-dev'}\n"
     ]
    }
   ],
   "source": [
    "pprint.pprint(ctx.get_environment(\"multiplayer_test_parallel\").__dict__)"
   ]
  },
  {
   "cell_type": "code",
   "execution_count": 4,
   "metadata": {},
   "outputs": [],
   "source": [
    "ctx.get_dbsession().rollback()"
   ]
  },
  {
   "cell_type": "code",
   "execution_count": null,
   "metadata": {},
   "outputs": [],
   "source": []
  },
  {
   "cell_type": "code",
   "execution_count": 5,
   "metadata": {},
   "outputs": [
    {
     "name": "stderr",
     "output_type": "stream",
     "text": [
      "2021-03-12 20:38:31,044 [MainThread  ] [INFO ] [data_context] Created database\n",
      "2021-03-12 20:38:31,066 [MainThread  ] [INFO ] [core] Registering task---------------\n"
     ]
    }
   ],
   "source": [
    "ctx.get_data_context().init_db(force=True)"
   ]
  },
  {
   "cell_type": "code",
   "execution_count": 6,
   "metadata": {},
   "outputs": [],
   "source": [
    "from pistarlab.task import AgentTask"
   ]
  },
  {
   "cell_type": "code",
   "execution_count": 30,
   "metadata": {},
   "outputs": [
    {
     "name": "stderr",
     "output_type": "stream",
     "text": [
      "[autoreload of pistarlab_common_data_envs.plugin failed: Traceback (most recent call last):\n",
      "  File \"/home/brandyn/anaconda3/envs/pistarlab/lib/python3.7/site-packages/IPython/extensions/autoreload.py\", line 245, in check\n",
      "    superreload(m, reload, self.old_objects)\n",
      "  File \"/home/brandyn/anaconda3/envs/pistarlab/lib/python3.7/site-packages/IPython/extensions/autoreload.py\", line 410, in superreload\n",
      "    update_generic(old_obj, new_obj)\n",
      "  File \"/home/brandyn/anaconda3/envs/pistarlab/lib/python3.7/site-packages/IPython/extensions/autoreload.py\", line 347, in update_generic\n",
      "    update(a, b)\n",
      "  File \"/home/brandyn/anaconda3/envs/pistarlab/lib/python3.7/site-packages/IPython/extensions/autoreload.py\", line 302, in update_class\n",
      "    if update_generic(old_obj, new_obj): continue\n",
      "  File \"/home/brandyn/anaconda3/envs/pistarlab/lib/python3.7/site-packages/IPython/extensions/autoreload.py\", line 347, in update_generic\n",
      "    update(a, b)\n",
      "  File \"/home/brandyn/anaconda3/envs/pistarlab/lib/python3.7/site-packages/IPython/extensions/autoreload.py\", line 266, in update_function\n",
      "    setattr(old, name, getattr(new, name))\n",
      "ValueError: __init__() requires a code object with 0 free vars, not 1\n",
      "]\n"
     ]
    }
   ],
   "source": [
    "t = AgentTask.load(\"T-62\")"
   ]
  },
  {
   "cell_type": "code",
   "execution_count": 31,
   "metadata": {},
   "outputs": [
    {
     "name": "stderr",
     "output_type": "stream",
     "text": [
      "\u001b[2m\u001b[36m(pid=None)\u001b[0m 2021-03-12 21:39:06,521 [MainThread  ] [DEBUG] [core] Initializing Context\n",
      "\u001b[2m\u001b[36m(pid=None)\u001b[0m 2021-03-12 21:39:06,522 [MainThread  ] [INFO ] [task_runner] Task Runner Started\n"
     ]
    },
    {
     "name": "stdout",
     "output_type": "stream",
     "text": [
      "\u001b[2m\u001b[36m(pid=None)\u001b[0m Files already downloaded and verified\n",
      "\u001b[2m\u001b[36m(pid=None)\u001b[0m Files already downloaded and verified\n"
     ]
    },
    {
     "name": "stderr",
     "output_type": "stream",
     "text": [
      "\u001b[2m\u001b[36m(pid=None)\u001b[0m 2021-03-12 21:39:14,065 [Dummy-2     ] [INFO ] [agent] [1,  2000] loss: 2.173\n",
      "\u001b[2m\u001b[36m(pid=None)\u001b[0m 2021-03-12 21:39:20,096 [Dummy-2     ] [INFO ] [agent] [1,  4000] loss: 1.826\n",
      "\u001b[2m\u001b[36m(pid=None)\u001b[0m 2021-03-12 21:39:27,278 [Dummy-2     ] [INFO ] [agent] [1,  6000] loss: 1.675\n",
      "\u001b[2m\u001b[36m(pid=None)\u001b[0m 2021-03-12 21:39:34,365 [Dummy-2     ] [INFO ] [agent] [1,  8000] loss: 1.572\n",
      "\u001b[2m\u001b[36m(pid=None)\u001b[0m 2021-03-12 21:39:41,489 [Dummy-2     ] [INFO ] [agent] [1, 10000] loss: 1.541\n",
      "\u001b[2m\u001b[36m(pid=None)\u001b[0m 2021-03-12 21:39:48,602 [Dummy-2     ] [INFO ] [agent] [1, 12000] loss: 1.459\n",
      "\u001b[2m\u001b[36m(pid=None)\u001b[0m 2021-03-12 21:39:57,504 [Dummy-2     ] [INFO ] [agent] [2,  2000] loss: 1.431\n",
      "\u001b[2m\u001b[36m(pid=None)\u001b[0m 2021-03-12 21:40:04,635 [Dummy-2     ] [INFO ] [agent] [2,  4000] loss: 1.392\n",
      "\u001b[2m\u001b[36m(pid=None)\u001b[0m 2021-03-12 21:40:11,737 [Dummy-2     ] [INFO ] [agent] [2,  6000] loss: 1.380\n",
      "\u001b[2m\u001b[36m(pid=None)\u001b[0m 2021-03-12 21:40:18,881 [Dummy-2     ] [INFO ] [agent] [2,  8000] loss: 1.356\n",
      "\u001b[2m\u001b[36m(pid=None)\u001b[0m 2021-03-12 21:40:26,118 [Dummy-2     ] [INFO ] [agent] [2, 10000] loss: 1.323\n",
      "\u001b[2m\u001b[36m(pid=None)\u001b[0m 2021-03-12 21:40:33,217 [Dummy-2     ] [INFO ] [agent] [2, 12000] loss: 1.308\n",
      "\u001b[2m\u001b[36m(pid=None)\u001b[0m 2021-03-12 21:40:34,968 [Dummy-2     ] [INFO ] [agent] Runtime in seconds: 88.41110587120056, Step_Count:25000, steps_per_second: 282.7699049078812 preclose: 282.7699071955214\n",
      "\u001b[2m\u001b[36m(pid=None)\u001b[0m 2021-03-12 21:40:34,976 [Dummy-2     ] [INFO ] [task] Shutting down task runnerT-62\n",
      "\u001b[2m\u001b[36m(pid=None)\u001b[0m 2021-03-12 21:40:35,231 [Dummy-2     ] [INFO ] [task] Stopping task actor now esUjE9qLx7kdRCY2JsgCAh\n"
     ]
    }
   ],
   "source": [
    "f = t.run()"
   ]
  },
  {
   "cell_type": "code",
   "execution_count": 22,
   "metadata": {},
   "outputs": [
    {
     "data": {
      "text/plain": [
       "<pistarlab.core.RunFuture at 0x7f49aef71290>"
      ]
     },
     "execution_count": 22,
     "metadata": {},
     "output_type": "execute_result"
    }
   ],
   "source": [
    "f"
   ]
  },
  {
   "cell_type": "code",
   "execution_count": 18,
   "metadata": {},
   "outputs": [
    {
     "data": {
      "text/plain": [
       "'ABORTED'"
      ]
     },
     "execution_count": 18,
     "metadata": {},
     "output_type": "execute_result"
    }
   ],
   "source": [
    "t.get_status()"
   ]
  },
  {
   "cell_type": "code",
   "execution_count": 5,
   "metadata": {},
   "outputs": [],
   "source": [
    "import ray"
   ]
  },
  {
   "cell_type": "code",
   "execution_count": 9,
   "metadata": {},
   "outputs": [
    {
     "data": {
      "text/plain": [
       "{'memory': 451.0,\n",
       " 'CPU': 9.0,\n",
       " 'node:192.168.1.87': 1.0,\n",
       " 'object_store_memory': 150.0,\n",
       " 'accelerator_type:GTX': 1.0,\n",
       " 'node:192.168.1.31': 1.0,\n",
       " 'GPU': 1.0}"
      ]
     },
     "execution_count": 9,
     "metadata": {},
     "output_type": "execute_result"
    }
   ],
   "source": [
    "ray.cluster_resources()"
   ]
  },
  {
   "cell_type": "code",
   "execution_count": 8,
   "metadata": {},
   "outputs": [
    {
     "data": {
      "text/plain": [
       "[{'NodeID': '2bfd1fbd44f9ac65cb268ada8eb5e15fd721e5a48ce0ffe74f943b98',\n",
       "  'Alive': True,\n",
       "  'NodeManagerAddress': '192.168.1.87',\n",
       "  'NodeManagerHostname': 'm87',\n",
       "  'NodeManagerPort': 59989,\n",
       "  'ObjectManagerPort': 39991,\n",
       "  'ObjectStoreSocketName': '/tmp/ray/session_2021-03-11_16-16-42_431241_373726/sockets/plasma_store',\n",
       "  'RayletSocketName': '/tmp/ray/session_2021-03-11_16-16-42_431241_373726/sockets/raylet',\n",
       "  'MetricsExportPort': 53653,\n",
       "  'alive': True,\n",
       "  'Resources': {'object_store_memory': 29.0,\n",
       "   'node:192.168.1.87': 1.0,\n",
       "   'CPU': 1.0,\n",
       "   'memory': 100.0}},\n",
       " {'NodeID': '1e6733c54c4011bd3f2e7da6f2de94c5e4bd4c1055be66eaa89ba904',\n",
       "  'Alive': True,\n",
       "  'NodeManagerAddress': '192.168.1.31',\n",
       "  'NodeManagerHostname': 'm31',\n",
       "  'NodeManagerPort': 57798,\n",
       "  'ObjectManagerPort': 32989,\n",
       "  'ObjectStoreSocketName': '/tmp/ray/session_2021-03-11_16-16-42_431241_373726/sockets/plasma_store',\n",
       "  'RayletSocketName': '/tmp/ray/session_2021-03-11_16-16-42_431241_373726/sockets/raylet',\n",
       "  'MetricsExportPort': 58974,\n",
       "  'alive': True,\n",
       "  'Resources': {'memory': 351.0,\n",
       "   'accelerator_type:GTX': 1.0,\n",
       "   'node:192.168.1.31': 1.0,\n",
       "   'CPU': 8.0,\n",
       "   'object_store_memory': 121.0,\n",
       "   'GPU': 1.0}}]"
      ]
     },
     "execution_count": 8,
     "metadata": {},
     "output_type": "execute_result"
    }
   ],
   "source": [
    "ray.nodes()"
   ]
  },
  {
   "cell_type": "code",
   "execution_count": 4,
   "metadata": {},
   "outputs": [
    {
     "name": "stderr",
     "output_type": "stream",
     "text": [
      "2021-03-11 17:51:11,684 [MainThread  ] [INFO ] [plugin_manager] Module missing function for rlproj\n"
     ]
    },
    {
     "data": {
      "text/plain": [
       "[('pistarlab-agents-stable-baselines', '0.0.1-dev'),\n",
       " ('pistarlab-rllib', '0.0.1-dev'),\n",
       " ('pistarlab-envs-gym-atari', '0.0.1-dev'),\n",
       " ('pistarlab-envs-gym-main', '0.0.1-dev'),\n",
       " ('pistarlab-envs-gym-minigrid', '0.0.1-dev'),\n",
       " ('pistarlab-simpleland', '0.0.1-dev'),\n",
       " ('pistarlab-petting-zoo', '0.0.1-dev'),\n",
       " ('pistarlab-envs-minecraft', '0.0.1-dev'),\n",
       " ('pistarlab-test-data-agents', '0.0.1-dev'),\n",
       " ('pistarlab-multigrid', '0.0.1-dev'),\n",
       " ('pistarlab-common-data-envs', '0.0.1-dev')]"
      ]
     },
     "execution_count": 4,
     "metadata": {},
     "output_type": "execute_result"
    }
   ],
   "source": [
    "ctx.list_plugins()"
   ]
  },
  {
   "cell_type": "code",
   "execution_count": 4,
   "metadata": {},
   "outputs": [],
   "source": [
    "# api.ctx.reset_all_data()"
   ]
  },
  {
   "cell_type": "code",
   "execution_count": 5,
   "metadata": {
    "scrolled": true
   },
   "outputs": [
    {
     "name": "stderr",
     "output_type": "stream",
     "text": [
      "2021-03-10 16:18:48,616 [MainThread  ] [INFO ] [plugin_manager] Module missing function for rlproj\n"
     ]
    },
    {
     "ename": "TypeError",
     "evalue": "'NoneType' object is not subscriptable",
     "output_type": "error",
     "traceback": [
      "\u001b[0;31m---------------------------------------------------------------------------\u001b[0m",
      "\u001b[0;31mTypeError\u001b[0m                                 Traceback (most recent call last)",
      "\u001b[0;32m<ipython-input-5-0487cf245da2>\u001b[0m in \u001b[0;36m<module>\u001b[0;34m\u001b[0m\n\u001b[0;32m----> 1\u001b[0;31m \u001b[0mctx\u001b[0m\u001b[0;34m.\u001b[0m\u001b[0minstall_plugin\u001b[0m\u001b[0;34m(\u001b[0m\u001b[0;34m'pistarlab-envs-gym-main'\u001b[0m\u001b[0;34m,\u001b[0m \u001b[0;34m\"0.0.1-dev\"\u001b[0m\u001b[0;34m)\u001b[0m\u001b[0;34m\u001b[0m\u001b[0;34m\u001b[0m\u001b[0m\n\u001b[0m",
      "\u001b[0;32m~/Dev/workspace_playground/pistarlab/pistarlab/core.py\u001b[0m in \u001b[0;36minstall_plugin\u001b[0;34m(self, id, plugin_version)\u001b[0m\n\u001b[1;32m    439\u001b[0m \u001b[0;34m\u001b[0m\u001b[0m\n\u001b[1;32m    440\u001b[0m     \u001b[0;32mdef\u001b[0m \u001b[0minstall_plugin\u001b[0m\u001b[0;34m(\u001b[0m\u001b[0mself\u001b[0m\u001b[0;34m,\u001b[0m\u001b[0mid\u001b[0m\u001b[0;34m,\u001b[0m\u001b[0mplugin_version\u001b[0m\u001b[0;34m)\u001b[0m\u001b[0;34m:\u001b[0m\u001b[0;34m\u001b[0m\u001b[0;34m\u001b[0m\u001b[0m\n\u001b[0;32m--> 441\u001b[0;31m         \u001b[0;32mreturn\u001b[0m \u001b[0mself\u001b[0m\u001b[0;34m.\u001b[0m\u001b[0mplugin_manager\u001b[0m\u001b[0;34m.\u001b[0m\u001b[0minstall_plugin\u001b[0m\u001b[0;34m(\u001b[0m\u001b[0mid\u001b[0m\u001b[0;34m,\u001b[0m\u001b[0mplugin_version\u001b[0m\u001b[0;34m)\u001b[0m\u001b[0;34m\u001b[0m\u001b[0;34m\u001b[0m\u001b[0m\n\u001b[0m\u001b[1;32m    442\u001b[0m \u001b[0;34m\u001b[0m\u001b[0m\n\u001b[1;32m    443\u001b[0m     \u001b[0;32mdef\u001b[0m \u001b[0muninstall_plugin\u001b[0m\u001b[0;34m(\u001b[0m\u001b[0mself\u001b[0m\u001b[0;34m,\u001b[0m \u001b[0mid\u001b[0m\u001b[0;34m)\u001b[0m\u001b[0;34m:\u001b[0m\u001b[0;34m\u001b[0m\u001b[0;34m\u001b[0m\u001b[0m\n",
      "\u001b[0;32m~/Dev/workspace_playground/pistarlab/pistarlab/plugin_manager.py\u001b[0m in \u001b[0;36minstall_plugin\u001b[0;34m(self, plugin_id, plugin_version)\u001b[0m\n\u001b[1;32m    321\u001b[0m \u001b[0;34m\u001b[0m\u001b[0m\n\u001b[1;32m    322\u001b[0m         \u001b[0mplugin\u001b[0m \u001b[0;34m=\u001b[0m \u001b[0mself\u001b[0m\u001b[0;34m.\u001b[0m\u001b[0mget_all_plugins\u001b[0m\u001b[0;34m(\u001b[0m\u001b[0;34m)\u001b[0m\u001b[0;34m.\u001b[0m\u001b[0mget\u001b[0m\u001b[0;34m(\u001b[0m\u001b[0mplugin_key\u001b[0m\u001b[0;34m)\u001b[0m\u001b[0;34m\u001b[0m\u001b[0;34m\u001b[0m\u001b[0m\n\u001b[0;32m--> 323\u001b[0;31m         \u001b[0mplugin_id\u001b[0m \u001b[0;34m=\u001b[0m \u001b[0mplugin\u001b[0m\u001b[0;34m[\u001b[0m\u001b[0;34m'id'\u001b[0m\u001b[0;34m]\u001b[0m\u001b[0;34m\u001b[0m\u001b[0;34m\u001b[0m\u001b[0m\n\u001b[0m\u001b[1;32m    324\u001b[0m \u001b[0;34m\u001b[0m\u001b[0m\n\u001b[1;32m    325\u001b[0m         \u001b[0;32mif\u001b[0m \u001b[0mplugin\u001b[0m \u001b[0;32mis\u001b[0m \u001b[0;32mNone\u001b[0m\u001b[0;34m:\u001b[0m\u001b[0;34m\u001b[0m\u001b[0;34m\u001b[0m\u001b[0m\n",
      "\u001b[0;31mTypeError\u001b[0m: 'NoneType' object is not subscriptable"
     ]
    }
   ],
   "source": [
    "ctx.install_plugin('pistarlab-envs-gym-main', \"0.0.1-dev\")"
   ]
  },
  {
   "cell_type": "code",
   "execution_count": 7,
   "metadata": {},
   "outputs": [],
   "source": [
    "from pistarlab.plugin_manager import get_plugin_key"
   ]
  },
  {
   "cell_type": "code",
   "execution_count": 9,
   "metadata": {},
   "outputs": [],
   "source": [
    "key = get_plugin_key('pistarlab-envs-gym-main', '0.0.1')"
   ]
  },
  {
   "cell_type": "code",
   "execution_count": 10,
   "metadata": {},
   "outputs": [
    {
     "name": "stderr",
     "output_type": "stream",
     "text": [
      "2021-03-10 16:21:34,151 [MainThread  ] [INFO ] [plugin_manager] Module missing function for rlproj\n"
     ]
    },
    {
     "data": {
      "text/plain": [
       "{'id': 'pistarlab-envs-gym-main',\n",
       " 'version': '0.0.1',\n",
       " 'name': 'Gym[MAIN]',\n",
       " 'categories': ['envs'],\n",
       " 'description': 'Default Environments included with OpenAI Gym',\n",
       " 'author': '',\n",
       " 'source': {'id': 'builtin',\n",
       "  'type': 'file',\n",
       "  'name': 'Built-in',\n",
       "  'description': '',\n",
       "  'path': '/home/brandyn/Dev/workspace_playground/pistarlab/pistarlab/plugins'},\n",
       " 'status': 'INSTALL_FAILED',\n",
       " 'status_msg': '\\'NoneType\\' object has no attribute \\'get\\'\\nTraceback (most recent call last):\\n  File \"/home/brandyn/Dev/workspace_playground/pistarlab/pistarlab/plugin_manager.py\", line 357, in install_plugin\\n    result = self._run_module_function(module_name,\"install\")\\n  File \"/home/brandyn/Dev/workspace_playground/pistarlab/pistarlab/plugin_manager.py\", line 222, in _run_module_function\\n    return getattr(pluginmod, function_name)()\\n  File \"/home/brandyn/Dev/workspace_playground/pistarlab/pistarlab/plugins/pistarlab-envs-gym-main/pistarlab_envs_gym_main/plugin.py\", line 21, in install\\n    ctx.install_plugin_from_manifest(PLUGIN_ID,PLUGIN_VERSION)\\n  File \"/home/brandyn/Dev/workspace_playground/pistarlab/pistarlab/core.py\", line 463, in install_plugin_from_manifest\\n    module_name = plugin.get(\\'module_name\\',plugin_id.replace(\"-\",\"_\"))\\nAttributeError: \\'NoneType\\' object has no attribute \\'get\\'\\n',\n",
       " 'status_timestamp': 1615421502.404085}"
      ]
     },
     "execution_count": 10,
     "metadata": {},
     "output_type": "execute_result"
    }
   ],
   "source": [
    "ctx.plugin_manager.get_all_plugins().get(key)"
   ]
  },
  {
   "cell_type": "code",
   "execution_count": null,
   "metadata": {
    "scrolled": true
   },
   "outputs": [],
   "source": [
    "api.list_plugins(status_filter=\"INSTALLED\")"
   ]
  },
  {
   "cell_type": "code",
   "execution_count": null,
   "metadata": {},
   "outputs": [],
   "source": [
    "api.list_agent_specs()"
   ]
  },
  {
   "cell_type": "code",
   "execution_count": null,
   "metadata": {},
   "outputs": [],
   "source": [
    "api.list_env_specs()"
   ]
  },
  {
   "cell_type": "markdown",
   "metadata": {},
   "source": [
    "# API Flow\n",
    "\n",
    "## Managed\n",
    "- Define Assignment\n",
    "- Define or Select Agent(s)\n",
    "- Submit -> get assignment id\n",
    "- Watch/Monitor\n",
    "\n",
    "## Manual\n",
    "- Define Assignment\n",
    "- Create Session\n",
    "- (add Default Test agent spec and Test agent (A-0))?\n",
    "- Step through session/agent\n",
    "\n",
    "\n",
    "\n"
   ]
  },
  {
   "cell_type": "code",
   "execution_count": null,
   "metadata": {},
   "outputs": [],
   "source": [
    "from pistarlab.session import Session, SessionConfig\n",
    "from pistarlab.core import Work"
   ]
  },
  {
   "cell_type": "code",
   "execution_count": null,
   "metadata": {},
   "outputs": [],
   "source": [
    "import pyinstrument"
   ]
  },
  {
   "cell_type": "code",
   "execution_count": null,
   "metadata": {},
   "outputs": [],
   "source": [
    "import time"
   ]
  },
  {
   "cell_type": "code",
   "execution_count": null,
   "metadata": {},
   "outputs": [],
   "source": [
    "for i in range(0,10):\n",
    "    print(\"\\n\\n----------------------------\")\n",
    "    start_time = time.time()\n",
    "    profiler = pyinstrument.Profiler()\n",
    "    profiler.start()\n",
    "    spec_id = \"LunarLander-v2\"\n",
    "    session = Session(config=SessionConfig(spec_id,episode_record_freq=50,preview_rendering=False,step_log_freq=10,max_steps_in_episode=300))\n",
    "\n",
    "    results = []\n",
    "\n",
    "    for i in range(0,120):\n",
    "        done= False\n",
    "        reward = None\n",
    "        ob = session.reset()\n",
    "        results.append((ob,None,False,None))\n",
    "        while not done:\n",
    "            action = session.action_space.sample()\n",
    "            ob, reward, done,info =session.step(action)\n",
    "            results.append((ob,reward,done,action))\n",
    "\n",
    "    session.close()\n",
    "    profiler.stop()\n",
    "    print(profiler.output_text(unicode=True, color=True))\n",
    "    print(\"Runtime in seconds: {}\".format(time.time() - start_time))\n"
   ]
  },
  {
   "cell_type": "code",
   "execution_count": null,
   "metadata": {},
   "outputs": [],
   "source": [
    "s = session.ctx.get_dbsession()"
   ]
  },
  {
   "cell_type": "code",
   "execution_count": null,
   "metadata": {},
   "outputs": [],
   "source": [
    "s.rollback()"
   ]
  },
  {
   "cell_type": "code",
   "execution_count": null,
   "metadata": {},
   "outputs": [],
   "source": [
    "work_agent_config = copy.copy(self.config['agent_kwargs'])\n",
    "work_agent_config.update(kwarg_overrides)\n",
    "\n",
    "work = Work(\n",
    "    uid=self.ctx.get_next_id(WORK_ENTITY),\n",
    "    config=work_config)\n",
    "work_agent_id = work.create_work_agent_reference(\n",
    "    self.get_uid(),\n",
    "    work_agent_config)\n"
   ]
  },
  {
   "cell_type": "code",
   "execution_count": null,
   "metadata": {},
   "outputs": [],
   "source": [
    "Session"
   ]
  },
  {
   "cell_type": "code",
   "execution_count": null,
   "metadata": {},
   "outputs": [],
   "source": [
    "agent = api.create_agent_instance('rllib_A2C')"
   ]
  },
  {
   "cell_type": "code",
   "execution_count": null,
   "metadata": {},
   "outputs": [],
   "source": [
    "Work()"
   ]
  },
  {
   "cell_type": "code",
   "execution_count": null,
   "metadata": {
    "scrolled": true
   },
   "outputs": [],
   "source": [
    "work_id = api.submit_assignment(agent=agent,env_spec_id=\"Copy-v0\",max_steps=10000,max_episodes=1000)"
   ]
  },
  {
   "cell_type": "code",
   "execution_count": null,
   "metadata": {},
   "outputs": [],
   "source": [
    "work_id"
   ]
  },
  {
   "cell_type": "code",
   "execution_count": null,
   "metadata": {},
   "outputs": [],
   "source": [
    "api._execute_graphql(query=\"\"\"\n",
    "query GetWork($ident: String!) {\n",
    "    work(ident: $ident) {\n",
    "      id\n",
    "      ident\n",
    "      status\n",
    "      }\n",
    "      }\n",
    "\"\"\",variables={'ident':'W-0'}).data"
   ]
  },
  {
   "cell_type": "code",
   "execution_count": null,
   "metadata": {},
   "outputs": [],
   "source": [
    "api.get_assignment_info(work_id)"
   ]
  },
  {
   "cell_type": "code",
   "execution_count": null,
   "metadata": {},
   "outputs": [],
   "source": [
    "from pistarlab.dbmodels import *\n",
    "from pistarlab.meta import *\n",
    "from sqlalchemy import *\n",
    "from sqlalchemy import type_coerce\n"
   ]
  },
  {
   "cell_type": "code",
   "execution_count": null,
   "metadata": {},
   "outputs": [],
   "source": [
    "import sqlalchemy"
   ]
  },
  {
   "cell_type": "code",
   "execution_count": null,
   "metadata": {},
   "outputs": [],
   "source": [
    "sess = api.ctx.get_dbsession()"
   ]
  },
  {
   "cell_type": "code",
   "execution_count": null,
   "metadata": {},
   "outputs": [],
   "source": [
    "from sqlalchemy.sql.expression import update"
   ]
  },
  {
   "cell_type": "code",
   "execution_count": null,
   "metadata": {},
   "outputs": [],
   "source": [
    "stmt = update(SessionModel)\\\n",
    ".where(SessionModel.status == 'COMPLETED')\\\n",
    "    .values(status = 'COMPLETED2')"
   ]
  },
  {
   "cell_type": "code",
   "execution_count": null,
   "metadata": {},
   "outputs": [],
   "source": [
    "sess.execute(stmt)"
   ]
  },
  {
   "cell_type": "code",
   "execution_count": null,
   "metadata": {},
   "outputs": [],
   "source": [
    "api.ctx.get_dbsession().commit()"
   ]
  },
  {
   "cell_type": "code",
   "execution_count": null,
   "metadata": {},
   "outputs": [],
   "source": [
    "api.ctx.get_dbsession().query(SessionModel).filter(and_(SessionModel.status=='RUNNING', SessionModel.status_inst_id!=api.ctx.get_inst_id())).all()"
   ]
  },
  {
   "cell_type": "code",
   "execution_count": null,
   "metadata": {},
   "outputs": [],
   "source": [
    "api.ctx.get_dbsession().rollback()"
   ]
  },
  {
   "cell_type": "code",
   "execution_count": null,
   "metadata": {},
   "outputs": [],
   "source": [
    "rs = api.ctx.get_dbsession().execute(\"\"\"\n",
    "SELECT id FROM session \n",
    "where status ->>'state' in ('RUNNING') \n",
    "AND status ->>'sys_inst_id' != '{}'\"\"\".format(api.ctx.get_inst_id()))"
   ]
  },
  {
   "cell_type": "code",
   "execution_count": null,
   "metadata": {},
   "outputs": [],
   "source": [
    "UPDATE objects\n",
    "SET body = jsonb_set(body, '{name}', '\"Mary\"', true)\n",
    "WHERE id = 1; "
   ]
  },
  {
   "cell_type": "code",
   "execution_count": null,
   "metadata": {},
   "outputs": [],
   "source": [
    "rs = api.ctx.get_dbsession().execute(\"\"\"\n",
    "UPDATE session SET status = 'COMPLETED'\n",
    "where status  in ('COMPLETED') \n",
    "AND status_inst_id = '{}'\"\"\".format(api.ctx.get_inst_id()))"
   ]
  },
  {
   "cell_type": "code",
   "execution_count": null,
   "metadata": {},
   "outputs": [],
   "source": [
    "for x in rs:\n",
    "    print(x)"
   ]
  },
  {
   "cell_type": "code",
   "execution_count": null,
   "metadata": {},
   "outputs": [],
   "source": [
    "api.ctx.get_dbsession().query(SessionModel).filter(SessionModel.status['state'].astext == 'CREATED').all()"
   ]
  },
  {
   "cell_type": "code",
   "execution_count": null,
   "metadata": {
    "scrolled": true
   },
   "outputs": [],
   "source": [
    "for s in api.list_sessions():\n",
    "    print(s.id)"
   ]
  },
  {
   "cell_type": "code",
   "execution_count": null,
   "metadata": {},
   "outputs": [],
   "source": [
    "api.get_agent_info('A-2').work_agents"
   ]
  },
  {
   "cell_type": "code",
   "execution_count": null,
   "metadata": {},
   "outputs": [],
   "source": [
    "!ls /home/brandyn/.pistarlab/data/session/S-17/"
   ]
  },
  {
   "cell_type": "code",
   "execution_count": null,
   "metadata": {},
   "outputs": [],
   "source": [
    "work_id"
   ]
  },
  {
   "cell_type": "code",
   "execution_count": null,
   "metadata": {},
   "outputs": [],
   "source": [
    "ctx.get_assignment_info(work_id)"
   ]
  },
  {
   "cell_type": "code",
   "execution_count": null,
   "metadata": {},
   "outputs": [],
   "source": [
    "list(ctx.store.list_objects(('session','S-18')))"
   ]
  },
  {
   "cell_type": "code",
   "execution_count": null,
   "metadata": {},
   "outputs": [],
   "source": []
  },
  {
   "cell_type": "code",
   "execution_count": null,
   "metadata": {},
   "outputs": [],
   "source": [
    "ctx.store.get_multipart_dict(('session','S-17'),name='G')"
   ]
  },
  {
   "cell_type": "code",
   "execution_count": null,
   "metadata": {},
   "outputs": [],
   "source": [
    "ctx.session_list()"
   ]
  },
  {
   "cell_type": "code",
   "execution_count": null,
   "metadata": {},
   "outputs": [],
   "source": [
    "ctx.list_sessions()"
   ]
  },
  {
   "cell_type": "code",
   "execution_count": null,
   "metadata": {},
   "outputs": [],
   "source": []
  }
 ],
 "metadata": {
  "kernelspec": {
   "display_name": "pistarlab37",
   "language": "python",
   "name": "pistarlab37"
  },
  "language_info": {
   "codemirror_mode": {
    "name": "ipython",
    "version": 3
   },
   "file_extension": ".py",
   "mimetype": "text/x-python",
   "name": "python",
   "nbconvert_exporter": "python",
   "pygments_lexer": "ipython3",
   "version": "3.7.7"
  }
 },
 "nbformat": 4,
 "nbformat_minor": 4
}
