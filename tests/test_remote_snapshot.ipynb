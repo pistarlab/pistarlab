{
 "cells": [
  {
   "cell_type": "markdown",
   "metadata": {},
   "source": [
    "# Load Snapshot"
   ]
  },
  {
   "cell_type": "code",
   "execution_count": 1,
   "metadata": {},
   "outputs": [
    {
     "data": {
      "text/html": [
       "<style>.container { width:100% !important; }</style>"
      ],
      "text/plain": [
       "<IPython.core.display.HTML object>"
      ]
     },
     "metadata": {},
     "output_type": "display_data"
    }
   ],
   "source": [
    "import sys\n",
    "# sys.path.append(\"?../\")\n",
    "%load_ext autoreload\n",
    "%autoreload 2\n",
    "%matplotlib inline\n",
    "\n",
    "from IPython.core.display import display, HTML\n",
    "display(HTML(\"<style>.container { width:100% !important; }</style>\"))\n",
    "%config Completer.use_jedi = False"
   ]
  },
  {
   "cell_type": "code",
   "execution_count": 2,
   "metadata": {},
   "outputs": [],
   "source": [
    "from pistarlab import ctx"
   ]
  },
  {
   "cell_type": "code",
   "execution_count": 3,
   "metadata": {},
   "outputs": [
    {
     "name": "stderr",
     "output_type": "stream",
     "text": [
      "DEBUG:root:Initializing Context\n",
      "INFO:root:Already running.\n",
      "2021-05-14 14:54:23,697\tWARNING deprecation.py:34 -- DeprecationWarning: `build_torch_policy` has been deprecated. Use `build_policy_class(framework='torch')` instead. This will raise an error in the future!\n",
      "2021-05-14 14:54:23,748 [MainThread  ] [INFO ] [core] Backend is Ready\n"
     ]
    }
   ],
   "source": [
    "ctx.initialize()"
   ]
  },
  {
   "cell_type": "code",
   "execution_count": 16,
   "metadata": {},
   "outputs": [
    {
     "name": "stdout",
     "output_type": "stream",
     "text": [
      "ls: cannot access '/home/brandyn/pistarlab/snapshot_repo/agent/': No such file or directory\n"
     ]
    }
   ],
   "source": [
    "!ls /home/brandyn/pistarlab/snapshot_repo/agent/"
   ]
  },
  {
   "cell_type": "code",
   "execution_count": 4,
   "metadata": {},
   "outputs": [],
   "source": [
    "ctx.connect()"
   ]
  },
  {
   "cell_type": "code",
   "execution_count": 5,
   "metadata": {},
   "outputs": [
    {
     "data": {
      "text/plain": [
       "{'entries': {},\n",
       " 'creation_time': '2021-05-14 14:00:12.945460',\n",
       " 'sources': {'local': '/home/brandyn/pistarlab/snapshot_repo',\n",
       "  'main': 'https://raw.githubusercontent.com/pistarlab/pistarlab-repo/main/snapshots/repo'}}"
      ]
     },
     "execution_count": 5,
     "metadata": {},
     "output_type": "execute_result"
    }
   ],
   "source": [
    "ctx.get_snapshot_index()"
   ]
  },
  {
   "cell_type": "code",
   "execution_count": 12,
   "metadata": {},
   "outputs": [
    {
     "name": "stderr",
     "output_type": "stream",
     "text": [
      "2021-05-14 14:55:53,001 [MainThread  ] [INFO ] [snapshot_helpers] Loading snapshots /home/brandyn/pistarlab/snapshot_repo\n"
     ]
    },
    {
     "data": {
      "text/plain": [
       "{'entries': {'agent_stable_baselines_PPO_default_0x7554a16a_0-dev': {'entity_type': 'agent',\n",
       "   'spec_id': 'stable_baselines_PPO',\n",
       "   'id': 'A-6',\n",
       "   'seed': '0x7554a16a',\n",
       "   'meta': {'spec_version': '0.0.1-dev',\n",
       "    'spec_plugin_id': 'pistarlab-stable-baselines',\n",
       "    'spec_plugin_version': '0.0.1-dev'},\n",
       "   'config': {'model_args': {},\n",
       "    'policy': 'MlpPolicy',\n",
       "    'policy_kwargs': {},\n",
       "    'agent_cls_name': 'PPO',\n",
       "    'interfaces': {'run': {'interface_id': 'run',\n",
       "      'interface_type': 'rl',\n",
       "      'auto_config_spaces': True,\n",
       "      'observation_space': None,\n",
       "      'action_space': None}},\n",
       "    'components': None},\n",
       "   'submitter_id': 'default',\n",
       "   'creation_time': '2021-05-14 10:46:37.085173',\n",
       "   'snapshot_version': '0-dev',\n",
       "   'snapshot_description': '',\n",
       "   'path': 'agent/stable_baselines_PPO',\n",
       "   'file_prefix': 'default__0x7554a16a_v0-dev',\n",
       "   'snapshot_id': 'agent_stable_baselines_PPO_default_0x7554a16a_0-dev',\n",
       "   'src': 'main'}},\n",
       " 'creation_time': '2021-05-14 14:55:53.005697',\n",
       " 'sources': {'local': '/home/brandyn/pistarlab/snapshot_repo',\n",
       "  'main': 'https://raw.githubusercontent.com/pistarlab/pistarlab-repo/main/snapshots/repo'}}"
      ]
     },
     "execution_count": 12,
     "metadata": {},
     "output_type": "execute_result"
    }
   ],
   "source": [
    "ctx.get_snapshot_index()"
   ]
  },
  {
   "cell_type": "code",
   "execution_count": 18,
   "metadata": {},
   "outputs": [
    {
     "name": "stderr",
     "output_type": "stream",
     "text": [
      "2021-05-14 15:04:00,092 [MainThread  ] [INFO ] [snapshot_helpers] Loading snapshots /home/brandyn/pistarlab/snapshot_repo\n",
      "2021-05-14 15:04:00,097 [MainThread  ] [INFO ] [core] Snapshot not found in cache, downloading snapshot from https://raw.githubusercontent.com/pistarlab/pistarlab-repo/main/snapshots/repo/agent/stable_baselines_PPO/default__0x7554a16a_v0-dev\n",
      "2021-05-14 15:04:00,537 [MainThread  ] [INFO ] [core] Snapshot downloaded to: /home/brandyn/pistarlab/snapshot_repo/agent/stable_baselines_PPO/default__0x7554a16a_v0-dev.tar.gz\n",
      "2021-05-14 15:04:00,582 [MainThread  ] [INFO ] [agent] Creating new agent record. A-8\n"
     ]
    },
    {
     "data": {
      "text/plain": [
       "id: A-8, spec_id: stable_baselines_PPO"
      ]
     },
     "execution_count": 18,
     "metadata": {},
     "output_type": "execute_result"
    }
   ],
   "source": [
    "ctx.create_agent_from_snapshot('agent_stable_baselines_PPO_default_0x7554a16a_0-dev')"
   ]
  },
  {
   "cell_type": "code",
   "execution_count": 8,
   "metadata": {},
   "outputs": [],
   "source": [
    "source = \"https://raw.githubusercontent.com/pistarlab/pistarlab-repo/main/snapshots/\""
   ]
  },
  {
   "cell_type": "code",
   "execution_count": 9,
   "metadata": {},
   "outputs": [
    {
     "data": {
      "text/plain": [
       "{'agent_stable_baselines_PPO_default_0x7554a16a_0-dev': {'entity_type': 'agent',\n",
       "  'spec_id': 'stable_baselines_PPO',\n",
       "  'id': 'A-6',\n",
       "  'seed': '0x7554a16a',\n",
       "  'meta': {'spec_version': '0.0.1-dev',\n",
       "   'spec_plugin_id': 'pistarlab-stable-baselines',\n",
       "   'spec_plugin_version': '0.0.1-dev'},\n",
       "  'config': {'model_args': {},\n",
       "   'policy': 'MlpPolicy',\n",
       "   'policy_kwargs': {},\n",
       "   'agent_cls_name': 'PPO',\n",
       "   'interfaces': {'run': {'interface_id': 'run',\n",
       "     'interface_type': 'rl',\n",
       "     'auto_config_spaces': True,\n",
       "     'observation_space': None,\n",
       "     'action_space': None}},\n",
       "   'components': None},\n",
       "  'submitter_id': 'default',\n",
       "  'creation_time': '2021-05-14 10:46:37.085173',\n",
       "  'snapshot_version': '0-dev',\n",
       "  'snapshot_description': '',\n",
       "  'path': 'agent/stable_baselines_PPO',\n",
       "  'file_prefix': 'default__0x7554a16a_v0-dev',\n",
       "  'snapshot_id': 'agent_stable_baselines_PPO_default_0x7554a16a_0-dev'}}"
      ]
     },
     "execution_count": 9,
     "metadata": {},
     "output_type": "execute_result"
    }
   ],
   "source": [
    "ctx.load_remote_snapshot_index(source)"
   ]
  },
  {
   "cell_type": "code",
   "execution_count": null,
   "metadata": {},
   "outputs": [],
   "source": []
  }
 ],
 "metadata": {
  "kernelspec": {
   "display_name": "pistarlab",
   "language": "python",
   "name": "pistarlab"
  },
  "language_info": {
   "codemirror_mode": {
    "name": "ipython",
    "version": 3
   },
   "file_extension": ".py",
   "mimetype": "text/x-python",
   "name": "python",
   "nbconvert_exporter": "python",
   "pygments_lexer": "ipython3",
   "version": "3.7.7"
  }
 },
 "nbformat": 4,
 "nbformat_minor": 4
}
